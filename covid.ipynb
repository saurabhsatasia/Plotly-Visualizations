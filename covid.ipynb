{
 "cells": [
  {
   "cell_type": "code",
   "execution_count": 6,
   "metadata": {},
   "outputs": [
    {
     "data": {
      "text/html": [
       "        <script type=\"text/javascript\">\n",
       "        window.PlotlyConfig = {MathJaxConfig: 'local'};\n",
       "        if (window.MathJax) {MathJax.Hub.Config({SVG: {font: \"STIX-Web\"}});}\n",
       "        if (typeof require !== 'undefined') {\n",
       "        require.undef(\"plotly\");\n",
       "        requirejs.config({\n",
       "            paths: {\n",
       "                'plotly': ['https://cdn.plot.ly/plotly-latest.min']\n",
       "            }\n",
       "        });\n",
       "        require(['plotly'], function(Plotly) {\n",
       "            window._Plotly = Plotly;\n",
       "        });\n",
       "        }\n",
       "        </script>\n",
       "        "
      ]
     },
     "metadata": {},
     "output_type": "display_data"
    }
   ],
   "source": [
    "import pandas as pd\n",
    "import numpy as np\n",
    "import plotly as py\n",
    "import plotly.express as px\n",
    "import plotly.graph_objs as go\n",
    "from plotly.subplots import make_subplots\n",
    "from plotly.offline import download_plotlyjs, init_notebook_mode, plot, iplot\n",
    "init_notebook_mode(connected=True)"
   ]
  },
  {
   "cell_type": "code",
   "execution_count": 9,
   "metadata": {},
   "outputs": [
    {
     "data": {
      "text/plain": [
       "Index(['SNo', 'ObservationDate', 'Province/State', 'Country/Region',\n",
       "       'Last Update', 'Confirmed', 'Deaths', 'Recovered'],\n",
       "      dtype='object')"
      ]
     },
     "execution_count": 9,
     "metadata": {},
     "output_type": "execute_result"
    }
   ],
   "source": [
    "df = pd.read_csv(r\"data/covid_19_data.csv\")\n",
    "df.columns"
   ]
  },
  {
   "cell_type": "code",
   "execution_count": 10,
   "metadata": {},
   "outputs": [
    {
     "data": {
      "text/html": [
       "<div>\n",
       "<style scoped>\n",
       "    .dataframe tbody tr th:only-of-type {\n",
       "        vertical-align: middle;\n",
       "    }\n",
       "\n",
       "    .dataframe tbody tr th {\n",
       "        vertical-align: top;\n",
       "    }\n",
       "\n",
       "    .dataframe thead th {\n",
       "        text-align: right;\n",
       "    }\n",
       "</style>\n",
       "<table border=\"1\" class=\"dataframe\">\n",
       "  <thead>\n",
       "    <tr style=\"text-align: right;\">\n",
       "      <th></th>\n",
       "      <th>SNo</th>\n",
       "      <th>Date</th>\n",
       "      <th>Province/State</th>\n",
       "      <th>Country</th>\n",
       "      <th>Last Update</th>\n",
       "      <th>Confirmed</th>\n",
       "      <th>Deaths</th>\n",
       "      <th>Recovered</th>\n",
       "    </tr>\n",
       "  </thead>\n",
       "  <tbody>\n",
       "    <tr>\n",
       "      <th>0</th>\n",
       "      <td>1</td>\n",
       "      <td>01/22/2020</td>\n",
       "      <td>Anhui</td>\n",
       "      <td>Mainland China</td>\n",
       "      <td>1/22/2020 17:00</td>\n",
       "      <td>1.0</td>\n",
       "      <td>0.0</td>\n",
       "      <td>0.0</td>\n",
       "    </tr>\n",
       "    <tr>\n",
       "      <th>1</th>\n",
       "      <td>2</td>\n",
       "      <td>01/22/2020</td>\n",
       "      <td>Beijing</td>\n",
       "      <td>Mainland China</td>\n",
       "      <td>1/22/2020 17:00</td>\n",
       "      <td>14.0</td>\n",
       "      <td>0.0</td>\n",
       "      <td>0.0</td>\n",
       "    </tr>\n",
       "  </tbody>\n",
       "</table>\n",
       "</div>"
      ],
      "text/plain": [
       "   SNo        Date Province/State         Country      Last Update  Confirmed  \\\n",
       "0    1  01/22/2020          Anhui  Mainland China  1/22/2020 17:00        1.0   \n",
       "1    2  01/22/2020        Beijing  Mainland China  1/22/2020 17:00       14.0   \n",
       "\n",
       "   Deaths  Recovered  \n",
       "0     0.0        0.0  \n",
       "1     0.0        0.0  "
      ]
     },
     "execution_count": 10,
     "metadata": {},
     "output_type": "execute_result"
    }
   ],
   "source": [
    "df = df.rename(columns = {'Country/Region':'Country'})\n",
    "df = df.rename(columns = {'ObservationDate': 'Date'})\n",
    "df.head(2)"
   ]
  },
  {
   "cell_type": "code",
   "execution_count": 12,
   "metadata": {},
   "outputs": [
    {
     "name": "stdout",
     "output_type": "stream",
     "text": [
      "<class 'pandas.core.frame.DataFrame'>\n",
      "RangeIndex: 20574 entries, 0 to 20573\n",
      "Data columns (total 8 columns):\n",
      " #   Column          Non-Null Count  Dtype  \n",
      "---  ------          --------------  -----  \n",
      " 0   SNo             20574 non-null  int64  \n",
      " 1   Date            20574 non-null  object \n",
      " 2   Province/State  10026 non-null  object \n",
      " 3   Country         20574 non-null  object \n",
      " 4   Last Update     20574 non-null  object \n",
      " 5   Confirmed       20574 non-null  float64\n",
      " 6   Deaths          20574 non-null  float64\n",
      " 7   Recovered       20574 non-null  float64\n",
      "dtypes: float64(3), int64(1), object(4)\n",
      "memory usage: 1.3+ MB\n"
     ]
    }
   ],
   "source": [
    "df.info()"
   ]
  },
  {
   "cell_type": "code",
   "execution_count": 18,
   "metadata": {},
   "outputs": [],
   "source": [
    "df_countries = df.groupby(['Country', 'Date']).sum().reset_index().sort_values('Date', ascending=False)\n"
   ]
  },
  {
   "cell_type": "code",
   "execution_count": 20,
   "metadata": {},
   "outputs": [
    {
     "data": {
      "text/plain": [
       "US                     101\n",
       "Thailand               101\n",
       "Mainland China         101\n",
       "South Korea            101\n",
       "Macau                  101\n",
       "                      ... \n",
       "Channel Islands          1\n",
       "Cape Verde               1\n",
       " Azerbaijan              1\n",
       "Republic of Ireland      1\n",
       "('St. Martin',)          1\n",
       "Name: Country, Length: 222, dtype: int64"
      ]
     },
     "execution_count": 20,
     "metadata": {},
     "output_type": "execute_result"
    }
   ],
   "source": [
    "df_countries.Country.value_counts()"
   ]
  },
  {
   "cell_type": "code",
   "execution_count": 21,
   "metadata": {},
   "outputs": [
    {
     "data": {
      "text/html": [
       "<div>\n",
       "<style scoped>\n",
       "    .dataframe tbody tr th:only-of-type {\n",
       "        vertical-align: middle;\n",
       "    }\n",
       "\n",
       "    .dataframe tbody tr th {\n",
       "        vertical-align: top;\n",
       "    }\n",
       "\n",
       "    .dataframe thead th {\n",
       "        text-align: right;\n",
       "    }\n",
       "</style>\n",
       "<table border=\"1\" class=\"dataframe\">\n",
       "  <thead>\n",
       "    <tr style=\"text-align: right;\">\n",
       "      <th></th>\n",
       "      <th>Country</th>\n",
       "      <th>Date</th>\n",
       "      <th>SNo</th>\n",
       "      <th>Confirmed</th>\n",
       "      <th>Deaths</th>\n",
       "      <th>Recovered</th>\n",
       "    </tr>\n",
       "  </thead>\n",
       "  <tbody>\n",
       "    <tr>\n",
       "      <th>2491</th>\n",
       "      <td>Cyprus</td>\n",
       "      <td>05/01/2020</td>\n",
       "      <td>20293</td>\n",
       "      <td>857.0</td>\n",
       "      <td>15.0</td>\n",
       "      <td>296.0</td>\n",
       "    </tr>\n",
       "    <tr>\n",
       "      <th>4179</th>\n",
       "      <td>Haiti</td>\n",
       "      <td>05/01/2020</td>\n",
       "      <td>20322</td>\n",
       "      <td>85.0</td>\n",
       "      <td>8.0</td>\n",
       "      <td>10.0</td>\n",
       "    </tr>\n",
       "    <tr>\n",
       "      <th>9702</th>\n",
       "      <td>Sudan</td>\n",
       "      <td>05/01/2020</td>\n",
       "      <td>20408</td>\n",
       "      <td>533.0</td>\n",
       "      <td>36.0</td>\n",
       "      <td>46.0</td>\n",
       "    </tr>\n",
       "    <tr>\n",
       "      <th>4085</th>\n",
       "      <td>Guinea-Bissau</td>\n",
       "      <td>05/01/2020</td>\n",
       "      <td>20320</td>\n",
       "      <td>257.0</td>\n",
       "      <td>1.0</td>\n",
       "      <td>19.0</td>\n",
       "    </tr>\n",
       "    <tr>\n",
       "      <th>7273</th>\n",
       "      <td>Netherlands</td>\n",
       "      <td>05/01/2020</td>\n",
       "      <td>102262</td>\n",
       "      <td>39989.0</td>\n",
       "      <td>4909.0</td>\n",
       "      <td>138.0</td>\n",
       "    </tr>\n",
       "    <tr>\n",
       "      <th>...</th>\n",
       "      <td>...</td>\n",
       "      <td>...</td>\n",
       "      <td>...</td>\n",
       "      <td>...</td>\n",
       "      <td>...</td>\n",
       "      <td>...</td>\n",
       "    </tr>\n",
       "    <tr>\n",
       "      <th>7806</th>\n",
       "      <td>Palestine</td>\n",
       "      <td>03/09/2020</td>\n",
       "      <td>4322</td>\n",
       "      <td>22.0</td>\n",
       "      <td>0.0</td>\n",
       "      <td>0.0</td>\n",
       "    </tr>\n",
       "    <tr>\n",
       "      <th>10961</th>\n",
       "      <td>Vatican City</td>\n",
       "      <td>03/09/2020</td>\n",
       "      <td>4507</td>\n",
       "      <td>1.0</td>\n",
       "      <td>0.0</td>\n",
       "      <td>0.0</td>\n",
       "    </tr>\n",
       "    <tr>\n",
       "      <th>8298</th>\n",
       "      <td>Republic of Ireland</td>\n",
       "      <td>03/08/2020</td>\n",
       "      <td>4067</td>\n",
       "      <td>21.0</td>\n",
       "      <td>0.0</td>\n",
       "      <td>0.0</td>\n",
       "    </tr>\n",
       "    <tr>\n",
       "      <th>7489</th>\n",
       "      <td>North Ireland</td>\n",
       "      <td>02/28/2020</td>\n",
       "      <td>2685</td>\n",
       "      <td>1.0</td>\n",
       "      <td>0.0</td>\n",
       "      <td>0.0</td>\n",
       "    </tr>\n",
       "    <tr>\n",
       "      <th>0</th>\n",
       "      <td>Azerbaijan</td>\n",
       "      <td>02/28/2020</td>\n",
       "      <td>2664</td>\n",
       "      <td>1.0</td>\n",
       "      <td>0.0</td>\n",
       "      <td>0.0</td>\n",
       "    </tr>\n",
       "  </tbody>\n",
       "</table>\n",
       "<p>213 rows × 6 columns</p>\n",
       "</div>"
      ],
      "text/plain": [
       "                   Country        Date     SNo  Confirmed  Deaths  Recovered\n",
       "2491                Cyprus  05/01/2020   20293      857.0    15.0      296.0\n",
       "4179                 Haiti  05/01/2020   20322       85.0     8.0       10.0\n",
       "9702                 Sudan  05/01/2020   20408      533.0    36.0       46.0\n",
       "4085         Guinea-Bissau  05/01/2020   20320      257.0     1.0       19.0\n",
       "7273           Netherlands  05/01/2020  102262    39989.0  4909.0      138.0\n",
       "...                    ...         ...     ...        ...     ...        ...\n",
       "7806             Palestine  03/09/2020    4322       22.0     0.0        0.0\n",
       "10961         Vatican City  03/09/2020    4507        1.0     0.0        0.0\n",
       "8298   Republic of Ireland  03/08/2020    4067       21.0     0.0        0.0\n",
       "7489         North Ireland  02/28/2020    2685        1.0     0.0        0.0\n",
       "0               Azerbaijan  02/28/2020    2664        1.0     0.0        0.0\n",
       "\n",
       "[213 rows x 6 columns]"
      ]
     },
     "execution_count": 21,
     "metadata": {},
     "output_type": "execute_result"
    }
   ],
   "source": [
    "df_countries = df_countries.drop_duplicates(subset=['Country'])\n",
    "df_countries = df_countries[df_countries['Confirmed']>0]\n",
    "df_countries"
   ]
  },
  {
   "cell_type": "code",
   "execution_count": 22,
   "metadata": {},
   "outputs": [
    {
     "data": {
      "text/plain": [
       "San Marino                1\n",
       "Uganda                    1\n",
       "Martinique                1\n",
       "Bosnia and Herzegovina    1\n",
       "Egypt                     1\n",
       "                         ..\n",
       "Saint Kitts and Nevis     1\n",
       "Burkina Faso              1\n",
       "Macau                     1\n",
       "Guatemala                 1\n",
       "Ukraine                   1\n",
       "Name: Country, Length: 213, dtype: int64"
      ]
     },
     "execution_count": 22,
     "metadata": {},
     "output_type": "execute_result"
    }
   ],
   "source": [
    "df_countries.Country.value_counts()"
   ]
  },
  {
   "cell_type": "code",
   "execution_count": 25,
   "metadata": {},
   "outputs": [
    {
     "data": {
      "application/vnd.plotly.v1+json": {
       "config": {
        "plotlyServerURL": "https://plot.ly"
       },
       "data": [
        {
         "coloraxis": "coloraxis",
         "geo": "geo",
         "hovertemplate": "<b>%{hovertext}</b><br><br>Date=05/01/2020<br>Country=%{location}<br>Confirmed=%{z}<extra></extra>",
         "hovertext": [
          "Cyprus",
          "Haiti",
          "Sudan",
          "Guinea-Bissau",
          "Netherlands",
          "Bolivia",
          "Eritrea",
          "Guyana",
          "Ukraine",
          "India",
          "Diamond Princess",
          "Luxembourg",
          "Cabo Verde",
          "Thailand",
          "Algeria",
          "Botswana",
          "New Zealand",
          "Finland",
          "Lithuania",
          "Papua New Guinea",
          "Congo (Kinshasa)",
          "West Bank and Gaza",
          "Japan",
          "Bosnia and Herzegovina",
          "Slovakia",
          "Liechtenstein",
          "Estonia",
          "Togo",
          "MS Zaandam",
          "Singapore",
          "Equatorial Guinea",
          "Bhutan",
          "Seychelles",
          "San Marino",
          "Albania",
          "Austria",
          "Romania",
          "Peru",
          "Guatemala",
          "France",
          "Benin",
          "Zambia",
          "Sierra Leone",
          "Madagascar",
          "Uruguay",
          "Ivory Coast",
          "Denmark",
          "Guinea",
          "Macau",
          "Jamaica",
          "Costa Rica",
          "Vietnam",
          "Nepal",
          "Saint Vincent and the Grenadines",
          "Chad",
          "South Africa",
          "Australia",
          "Panama",
          "Nicaragua",
          "Namibia",
          "Burkina Faso",
          "Honduras",
          "Slovenia",
          "Latvia",
          "Hungary",
          "Dominica",
          "Brunei",
          "Kenya",
          "North Macedonia",
          "Sweden",
          "Eswatini",
          "Yemen",
          "Laos",
          "Norway",
          "Suriname",
          "Saint Kitts and Nevis",
          "Antigua and Barbuda",
          "Hong Kong",
          "Kyrgyzstan",
          "Angola",
          "Comoros",
          "Colombia",
          "Rwanda",
          "Oman",
          "Bulgaria",
          "Ethiopia",
          "Kuwait",
          "Burma",
          "Chile",
          "United Arab Emirates",
          "Brazil",
          "Iceland",
          "Western Sahara",
          "Armenia",
          "Holy See",
          "Libya",
          "Jordan",
          "Djibouti",
          "Switzerland",
          "Burundi",
          "Liberia",
          "Niger",
          "Lebanon",
          "Russia",
          "Dominican Republic",
          "Timor-Leste",
          "Nigeria",
          "Saint Lucia",
          "UK",
          "Fiji",
          "Congo (Brazzaville)",
          "Andorra",
          "Pakistan",
          "Argentina",
          "Kazakhstan",
          "Somalia",
          "Belize",
          "Paraguay",
          "Mongolia",
          "Sri Lanka",
          "Monaco",
          "Qatar",
          "Poland",
          "Cuba",
          "Venezuela",
          "Belarus",
          "Uzbekistan",
          "El Salvador",
          "Cambodia",
          "Czech Republic",
          "Maldives",
          "Bahamas",
          "Greece",
          "Afghanistan",
          "Uganda",
          "Syria",
          "Malaysia",
          "Cameroon",
          "Montenegro",
          "Sao Tome and Principe",
          "Israel",
          "Philippines",
          "Tanzania",
          "Iran",
          "Mali",
          "South Sudan",
          "Senegal",
          "Zimbabwe",
          "Mexico",
          "Saudi Arabia",
          "Bangladesh",
          "Mauritius",
          "Canada",
          "Moldova",
          "Iraq",
          "Germany",
          "Mauritania",
          "Barbados",
          "Bahrain",
          "Egypt",
          "Ireland",
          "Spain",
          "Portugal",
          "Ghana",
          "Malta",
          "Taiwan",
          "US",
          "Tajikistan",
          "Georgia",
          "Turkey",
          "Grenada",
          "Kosovo",
          "Trinidad and Tobago",
          "Croatia",
          "Malawi",
          "Serbia",
          "Mozambique",
          "Mainland China",
          "Central African Republic",
          "Ecuador",
          "Indonesia",
          "Azerbaijan",
          "Gabon",
          "Tunisia",
          "Italy",
          "South Korea",
          "Belgium",
          "Gambia",
          "Morocco"
         ],
         "locationmode": "country names",
         "locations": [
          "Cyprus",
          "Haiti",
          "Sudan",
          "Guinea-Bissau",
          "Netherlands",
          "Bolivia",
          "Eritrea",
          "Guyana",
          "Ukraine",
          "India",
          "Diamond Princess",
          "Luxembourg",
          "Cabo Verde",
          "Thailand",
          "Algeria",
          "Botswana",
          "New Zealand",
          "Finland",
          "Lithuania",
          "Papua New Guinea",
          "Congo (Kinshasa)",
          "West Bank and Gaza",
          "Japan",
          "Bosnia and Herzegovina",
          "Slovakia",
          "Liechtenstein",
          "Estonia",
          "Togo",
          "MS Zaandam",
          "Singapore",
          "Equatorial Guinea",
          "Bhutan",
          "Seychelles",
          "San Marino",
          "Albania",
          "Austria",
          "Romania",
          "Peru",
          "Guatemala",
          "France",
          "Benin",
          "Zambia",
          "Sierra Leone",
          "Madagascar",
          "Uruguay",
          "Ivory Coast",
          "Denmark",
          "Guinea",
          "Macau",
          "Jamaica",
          "Costa Rica",
          "Vietnam",
          "Nepal",
          "Saint Vincent and the Grenadines",
          "Chad",
          "South Africa",
          "Australia",
          "Panama",
          "Nicaragua",
          "Namibia",
          "Burkina Faso",
          "Honduras",
          "Slovenia",
          "Latvia",
          "Hungary",
          "Dominica",
          "Brunei",
          "Kenya",
          "North Macedonia",
          "Sweden",
          "Eswatini",
          "Yemen",
          "Laos",
          "Norway",
          "Suriname",
          "Saint Kitts and Nevis",
          "Antigua and Barbuda",
          "Hong Kong",
          "Kyrgyzstan",
          "Angola",
          "Comoros",
          "Colombia",
          "Rwanda",
          "Oman",
          "Bulgaria",
          "Ethiopia",
          "Kuwait",
          "Burma",
          "Chile",
          "United Arab Emirates",
          "Brazil",
          "Iceland",
          "Western Sahara",
          "Armenia",
          "Holy See",
          "Libya",
          "Jordan",
          "Djibouti",
          "Switzerland",
          "Burundi",
          "Liberia",
          "Niger",
          "Lebanon",
          "Russia",
          "Dominican Republic",
          "Timor-Leste",
          "Nigeria",
          "Saint Lucia",
          "UK",
          "Fiji",
          "Congo (Brazzaville)",
          "Andorra",
          "Pakistan",
          "Argentina",
          "Kazakhstan",
          "Somalia",
          "Belize",
          "Paraguay",
          "Mongolia",
          "Sri Lanka",
          "Monaco",
          "Qatar",
          "Poland",
          "Cuba",
          "Venezuela",
          "Belarus",
          "Uzbekistan",
          "El Salvador",
          "Cambodia",
          "Czech Republic",
          "Maldives",
          "Bahamas",
          "Greece",
          "Afghanistan",
          "Uganda",
          "Syria",
          "Malaysia",
          "Cameroon",
          "Montenegro",
          "Sao Tome and Principe",
          "Israel",
          "Philippines",
          "Tanzania",
          "Iran",
          "Mali",
          "South Sudan",
          "Senegal",
          "Zimbabwe",
          "Mexico",
          "Saudi Arabia",
          "Bangladesh",
          "Mauritius",
          "Canada",
          "Moldova",
          "Iraq",
          "Germany",
          "Mauritania",
          "Barbados",
          "Bahrain",
          "Egypt",
          "Ireland",
          "Spain",
          "Portugal",
          "Ghana",
          "Malta",
          "Taiwan",
          "US",
          "Tajikistan",
          "Georgia",
          "Turkey",
          "Grenada",
          "Kosovo",
          "Trinidad and Tobago",
          "Croatia",
          "Malawi",
          "Serbia",
          "Mozambique",
          "Mainland China",
          "Central African Republic",
          "Ecuador",
          "Indonesia",
          "Azerbaijan",
          "Gabon",
          "Tunisia",
          "Italy",
          "South Korea",
          "Belgium",
          "Gambia",
          "Morocco"
         ],
         "name": "",
         "type": "choropleth",
         "z": [
          857,
          85,
          533,
          257,
          39989,
          1229,
          39,
          82,
          10861,
          37257,
          712,
          3802,
          122,
          2960,
          4154,
          23,
          1485,
          5051,
          1399,
          8,
          604,
          353,
          14305,
          1781,
          1403,
          82,
          1694,
          123,
          9,
          17101,
          315,
          7,
          11,
          580,
          782,
          15531,
          12567,
          40459,
          644,
          167305,
          90,
          109,
          136,
          132,
          648,
          1333,
          9509,
          1537,
          45,
          432,
          725,
          270,
          59,
          16,
          73,
          5951,
          6778,
          6720,
          14,
          16,
          649,
          804,
          1434,
          870,
          2863,
          16,
          138,
          411,
          1494,
          21520,
          106,
          7,
          19,
          7783,
          10,
          15,
          25,
          1039,
          756,
          30,
          1,
          7006,
          249,
          2447,
          1555,
          133,
          4377,
          151,
          17008,
          13038,
          92202,
          1798,
          6,
          2148,
          11,
          63,
          459,
          1097,
          29705,
          11,
          152,
          728,
          729,
          114431,
          7288,
          24,
          2170,
          17,
          178685,
          18,
          229,
          745,
          18114,
          4532,
          3597,
          601,
          18,
          333,
          38,
          690,
          95,
          14096,
          13105,
          1537,
          335,
          14917,
          2086,
          424,
          122,
          7737,
          491,
          81,
          2612,
          2335,
          85,
          44,
          6071,
          1832,
          322,
          16,
          16101,
          8772,
          480,
          95646,
          508,
          45,
          1024,
          40,
          20739,
          24097,
          8238,
          332,
          56343,
          3980,
          2153,
          164077,
          8,
          81,
          3170,
          5895,
          20833,
          213435,
          25351,
          2074,
          467,
          429,
          1103461,
          15,
          566,
          122392,
          20,
          806,
          116,
          2085,
          37,
          9009,
          79,
          82875,
          72,
          26336,
          10551,
          1854,
          276,
          998,
          207428,
          10780,
          49032,
          12,
          4569
         ]
        }
       ],
       "frames": [
        {
         "data": [
          {
           "coloraxis": "coloraxis",
           "geo": "geo",
           "hovertemplate": "<b>%{hovertext}</b><br><br>Date=05/01/2020<br>Country=%{location}<br>Confirmed=%{z}<extra></extra>",
           "hovertext": [
            "Cyprus",
            "Haiti",
            "Sudan",
            "Guinea-Bissau",
            "Netherlands",
            "Bolivia",
            "Eritrea",
            "Guyana",
            "Ukraine",
            "India",
            "Diamond Princess",
            "Luxembourg",
            "Cabo Verde",
            "Thailand",
            "Algeria",
            "Botswana",
            "New Zealand",
            "Finland",
            "Lithuania",
            "Papua New Guinea",
            "Congo (Kinshasa)",
            "West Bank and Gaza",
            "Japan",
            "Bosnia and Herzegovina",
            "Slovakia",
            "Liechtenstein",
            "Estonia",
            "Togo",
            "MS Zaandam",
            "Singapore",
            "Equatorial Guinea",
            "Bhutan",
            "Seychelles",
            "San Marino",
            "Albania",
            "Austria",
            "Romania",
            "Peru",
            "Guatemala",
            "France",
            "Benin",
            "Zambia",
            "Sierra Leone",
            "Madagascar",
            "Uruguay",
            "Ivory Coast",
            "Denmark",
            "Guinea",
            "Macau",
            "Jamaica",
            "Costa Rica",
            "Vietnam",
            "Nepal",
            "Saint Vincent and the Grenadines",
            "Chad",
            "South Africa",
            "Australia",
            "Panama",
            "Nicaragua",
            "Namibia",
            "Burkina Faso",
            "Honduras",
            "Slovenia",
            "Latvia",
            "Hungary",
            "Dominica",
            "Brunei",
            "Kenya",
            "North Macedonia",
            "Sweden",
            "Eswatini",
            "Yemen",
            "Laos",
            "Norway",
            "Suriname",
            "Saint Kitts and Nevis",
            "Antigua and Barbuda",
            "Hong Kong",
            "Kyrgyzstan",
            "Angola",
            "Comoros",
            "Colombia",
            "Rwanda",
            "Oman",
            "Bulgaria",
            "Ethiopia",
            "Kuwait",
            "Burma",
            "Chile",
            "United Arab Emirates",
            "Brazil",
            "Iceland",
            "Western Sahara",
            "Armenia",
            "Holy See",
            "Libya",
            "Jordan",
            "Djibouti",
            "Switzerland",
            "Burundi",
            "Liberia",
            "Niger",
            "Lebanon",
            "Russia",
            "Dominican Republic",
            "Timor-Leste",
            "Nigeria",
            "Saint Lucia",
            "UK",
            "Fiji",
            "Congo (Brazzaville)",
            "Andorra",
            "Pakistan",
            "Argentina",
            "Kazakhstan",
            "Somalia",
            "Belize",
            "Paraguay",
            "Mongolia",
            "Sri Lanka",
            "Monaco",
            "Qatar",
            "Poland",
            "Cuba",
            "Venezuela",
            "Belarus",
            "Uzbekistan",
            "El Salvador",
            "Cambodia",
            "Czech Republic",
            "Maldives",
            "Bahamas",
            "Greece",
            "Afghanistan",
            "Uganda",
            "Syria",
            "Malaysia",
            "Cameroon",
            "Montenegro",
            "Sao Tome and Principe",
            "Israel",
            "Philippines",
            "Tanzania",
            "Iran",
            "Mali",
            "South Sudan",
            "Senegal",
            "Zimbabwe",
            "Mexico",
            "Saudi Arabia",
            "Bangladesh",
            "Mauritius",
            "Canada",
            "Moldova",
            "Iraq",
            "Germany",
            "Mauritania",
            "Barbados",
            "Bahrain",
            "Egypt",
            "Ireland",
            "Spain",
            "Portugal",
            "Ghana",
            "Malta",
            "Taiwan",
            "US",
            "Tajikistan",
            "Georgia",
            "Turkey",
            "Grenada",
            "Kosovo",
            "Trinidad and Tobago",
            "Croatia",
            "Malawi",
            "Serbia",
            "Mozambique",
            "Mainland China",
            "Central African Republic",
            "Ecuador",
            "Indonesia",
            "Azerbaijan",
            "Gabon",
            "Tunisia",
            "Italy",
            "South Korea",
            "Belgium",
            "Gambia",
            "Morocco"
           ],
           "locationmode": "country names",
           "locations": [
            "Cyprus",
            "Haiti",
            "Sudan",
            "Guinea-Bissau",
            "Netherlands",
            "Bolivia",
            "Eritrea",
            "Guyana",
            "Ukraine",
            "India",
            "Diamond Princess",
            "Luxembourg",
            "Cabo Verde",
            "Thailand",
            "Algeria",
            "Botswana",
            "New Zealand",
            "Finland",
            "Lithuania",
            "Papua New Guinea",
            "Congo (Kinshasa)",
            "West Bank and Gaza",
            "Japan",
            "Bosnia and Herzegovina",
            "Slovakia",
            "Liechtenstein",
            "Estonia",
            "Togo",
            "MS Zaandam",
            "Singapore",
            "Equatorial Guinea",
            "Bhutan",
            "Seychelles",
            "San Marino",
            "Albania",
            "Austria",
            "Romania",
            "Peru",
            "Guatemala",
            "France",
            "Benin",
            "Zambia",
            "Sierra Leone",
            "Madagascar",
            "Uruguay",
            "Ivory Coast",
            "Denmark",
            "Guinea",
            "Macau",
            "Jamaica",
            "Costa Rica",
            "Vietnam",
            "Nepal",
            "Saint Vincent and the Grenadines",
            "Chad",
            "South Africa",
            "Australia",
            "Panama",
            "Nicaragua",
            "Namibia",
            "Burkina Faso",
            "Honduras",
            "Slovenia",
            "Latvia",
            "Hungary",
            "Dominica",
            "Brunei",
            "Kenya",
            "North Macedonia",
            "Sweden",
            "Eswatini",
            "Yemen",
            "Laos",
            "Norway",
            "Suriname",
            "Saint Kitts and Nevis",
            "Antigua and Barbuda",
            "Hong Kong",
            "Kyrgyzstan",
            "Angola",
            "Comoros",
            "Colombia",
            "Rwanda",
            "Oman",
            "Bulgaria",
            "Ethiopia",
            "Kuwait",
            "Burma",
            "Chile",
            "United Arab Emirates",
            "Brazil",
            "Iceland",
            "Western Sahara",
            "Armenia",
            "Holy See",
            "Libya",
            "Jordan",
            "Djibouti",
            "Switzerland",
            "Burundi",
            "Liberia",
            "Niger",
            "Lebanon",
            "Russia",
            "Dominican Republic",
            "Timor-Leste",
            "Nigeria",
            "Saint Lucia",
            "UK",
            "Fiji",
            "Congo (Brazzaville)",
            "Andorra",
            "Pakistan",
            "Argentina",
            "Kazakhstan",
            "Somalia",
            "Belize",
            "Paraguay",
            "Mongolia",
            "Sri Lanka",
            "Monaco",
            "Qatar",
            "Poland",
            "Cuba",
            "Venezuela",
            "Belarus",
            "Uzbekistan",
            "El Salvador",
            "Cambodia",
            "Czech Republic",
            "Maldives",
            "Bahamas",
            "Greece",
            "Afghanistan",
            "Uganda",
            "Syria",
            "Malaysia",
            "Cameroon",
            "Montenegro",
            "Sao Tome and Principe",
            "Israel",
            "Philippines",
            "Tanzania",
            "Iran",
            "Mali",
            "South Sudan",
            "Senegal",
            "Zimbabwe",
            "Mexico",
            "Saudi Arabia",
            "Bangladesh",
            "Mauritius",
            "Canada",
            "Moldova",
            "Iraq",
            "Germany",
            "Mauritania",
            "Barbados",
            "Bahrain",
            "Egypt",
            "Ireland",
            "Spain",
            "Portugal",
            "Ghana",
            "Malta",
            "Taiwan",
            "US",
            "Tajikistan",
            "Georgia",
            "Turkey",
            "Grenada",
            "Kosovo",
            "Trinidad and Tobago",
            "Croatia",
            "Malawi",
            "Serbia",
            "Mozambique",
            "Mainland China",
            "Central African Republic",
            "Ecuador",
            "Indonesia",
            "Azerbaijan",
            "Gabon",
            "Tunisia",
            "Italy",
            "South Korea",
            "Belgium",
            "Gambia",
            "Morocco"
           ],
           "name": "",
           "type": "choropleth",
           "z": [
            857,
            85,
            533,
            257,
            39989,
            1229,
            39,
            82,
            10861,
            37257,
            712,
            3802,
            122,
            2960,
            4154,
            23,
            1485,
            5051,
            1399,
            8,
            604,
            353,
            14305,
            1781,
            1403,
            82,
            1694,
            123,
            9,
            17101,
            315,
            7,
            11,
            580,
            782,
            15531,
            12567,
            40459,
            644,
            167305,
            90,
            109,
            136,
            132,
            648,
            1333,
            9509,
            1537,
            45,
            432,
            725,
            270,
            59,
            16,
            73,
            5951,
            6778,
            6720,
            14,
            16,
            649,
            804,
            1434,
            870,
            2863,
            16,
            138,
            411,
            1494,
            21520,
            106,
            7,
            19,
            7783,
            10,
            15,
            25,
            1039,
            756,
            30,
            1,
            7006,
            249,
            2447,
            1555,
            133,
            4377,
            151,
            17008,
            13038,
            92202,
            1798,
            6,
            2148,
            11,
            63,
            459,
            1097,
            29705,
            11,
            152,
            728,
            729,
            114431,
            7288,
            24,
            2170,
            17,
            178685,
            18,
            229,
            745,
            18114,
            4532,
            3597,
            601,
            18,
            333,
            38,
            690,
            95,
            14096,
            13105,
            1537,
            335,
            14917,
            2086,
            424,
            122,
            7737,
            491,
            81,
            2612,
            2335,
            85,
            44,
            6071,
            1832,
            322,
            16,
            16101,
            8772,
            480,
            95646,
            508,
            45,
            1024,
            40,
            20739,
            24097,
            8238,
            332,
            56343,
            3980,
            2153,
            164077,
            8,
            81,
            3170,
            5895,
            20833,
            213435,
            25351,
            2074,
            467,
            429,
            1103461,
            15,
            566,
            122392,
            20,
            806,
            116,
            2085,
            37,
            9009,
            79,
            82875,
            72,
            26336,
            10551,
            1854,
            276,
            998,
            207428,
            10780,
            49032,
            12,
            4569
           ]
          }
         ],
         "name": "05/01/2020"
        },
        {
         "data": [
          {
           "coloraxis": "coloraxis",
           "geo": "geo",
           "hovertemplate": "<b>%{hovertext}</b><br><br>Date=03/23/2020<br>Country=%{location}<br>Confirmed=%{z}<extra></extra>",
           "hovertext": [
            "Others"
           ],
           "locationmode": "country names",
           "locations": [
            "Others"
           ],
           "name": "",
           "type": "choropleth",
           "z": [
            712
           ]
          }
         ],
         "name": "03/23/2020"
        },
        {
         "data": [
          {
           "coloraxis": "coloraxis",
           "geo": "geo",
           "hovertemplate": "<b>%{hovertext}</b><br><br>Date=03/21/2020<br>Country=%{location}<br>Confirmed=%{z}<extra></extra>",
           "hovertext": [
            "Reunion",
            "Cape Verde",
            "Martinique",
            "Bahamas, The",
            "Guadeloupe",
            "French Guiana",
            "Gambia, The",
            "Mayotte",
            "East Timor"
           ],
           "locationmode": "country names",
           "locations": [
            "Reunion",
            "Cape Verde",
            "Martinique",
            "Bahamas, The",
            "Guadeloupe",
            "French Guiana",
            "Gambia, The",
            "Mayotte",
            "East Timor"
           ],
           "name": "",
           "type": "choropleth",
           "z": [
            45,
            1,
            32,
            4,
            53,
            18,
            1,
            7,
            1
           ]
          }
         ],
         "name": "03/21/2020"
        },
        {
         "data": [
          {
           "coloraxis": "coloraxis",
           "geo": "geo",
           "hovertemplate": "<b>%{hovertext}</b><br><br>Date=03/19/2020<br>Country=%{location}<br>Confirmed=%{z}<extra></extra>",
           "hovertext": [
            "Aruba"
           ],
           "locationmode": "country names",
           "locations": [
            "Aruba"
           ],
           "name": "",
           "type": "choropleth",
           "z": [
            4
           ]
          }
         ],
         "name": "03/19/2020"
        },
        {
         "data": [
          {
           "coloraxis": "coloraxis",
           "geo": "geo",
           "hovertemplate": "<b>%{hovertext}</b><br><br>Date=03/15/2020<br>Country=%{location}<br>Confirmed=%{z}<extra></extra>",
           "hovertext": [
            "Curacao",
            "Cayman Islands"
           ],
           "locationmode": "country names",
           "locations": [
            "Curacao",
            "Cayman Islands"
           ],
           "name": "",
           "type": "choropleth",
           "z": [
            1,
            1
           ]
          }
         ],
         "name": "03/15/2020"
        },
        {
         "data": [
          {
           "coloraxis": "coloraxis",
           "geo": "geo",
           "hovertemplate": "<b>%{hovertext}</b><br><br>Date=03/10/2020<br>Country=%{location}<br>Confirmed=%{z}<extra></extra>",
           "hovertext": [
            "Gibraltar",
            "Faroe Islands",
            "Channel Islands",
            "Saint Barthelemy",
            "('St. Martin',)"
           ],
           "locationmode": "country names",
           "locations": [
            "Gibraltar",
            "Faroe Islands",
            "Channel Islands",
            "Saint Barthelemy",
            "('St. Martin',)"
           ],
           "name": "",
           "type": "choropleth",
           "z": [
            1,
            2,
            1,
            1,
            2
           ]
          }
         ],
         "name": "03/10/2020"
        },
        {
         "data": [
          {
           "coloraxis": "coloraxis",
           "geo": "geo",
           "hovertemplate": "<b>%{hovertext}</b><br><br>Date=03/09/2020<br>Country=%{location}<br>Confirmed=%{z}<extra></extra>",
           "hovertext": [
            "St. Martin",
            "Palestine",
            "Vatican City"
           ],
           "locationmode": "country names",
           "locations": [
            "St. Martin",
            "Palestine",
            "Vatican City"
           ],
           "name": "",
           "type": "choropleth",
           "z": [
            2,
            22,
            1
           ]
          }
         ],
         "name": "03/09/2020"
        },
        {
         "data": [
          {
           "coloraxis": "coloraxis",
           "geo": "geo",
           "hovertemplate": "<b>%{hovertext}</b><br><br>Date=03/08/2020<br>Country=%{location}<br>Confirmed=%{z}<extra></extra>",
           "hovertext": [
            "Republic of Ireland"
           ],
           "locationmode": "country names",
           "locations": [
            "Republic of Ireland"
           ],
           "name": "",
           "type": "choropleth",
           "z": [
            21
           ]
          }
         ],
         "name": "03/08/2020"
        },
        {
         "data": [
          {
           "coloraxis": "coloraxis",
           "geo": "geo",
           "hovertemplate": "<b>%{hovertext}</b><br><br>Date=02/28/2020<br>Country=%{location}<br>Confirmed=%{z}<extra></extra>",
           "hovertext": [
            "North Ireland",
            " Azerbaijan"
           ],
           "locationmode": "country names",
           "locations": [
            "North Ireland",
            " Azerbaijan"
           ],
           "name": "",
           "type": "choropleth",
           "z": [
            1,
            1
           ]
          }
         ],
         "name": "02/28/2020"
        }
       ],
       "layout": {
        "coloraxis": {
         "colorbar": {
          "title": {
           "text": "Confirmed"
          }
         },
         "colorscale": [
          [
           0,
           "#0d0887"
          ],
          [
           0.1111111111111111,
           "#46039f"
          ],
          [
           0.2222222222222222,
           "#7201a8"
          ],
          [
           0.3333333333333333,
           "#9c179e"
          ],
          [
           0.4444444444444444,
           "#bd3786"
          ],
          [
           0.5555555555555556,
           "#d8576b"
          ],
          [
           0.6666666666666666,
           "#ed7953"
          ],
          [
           0.7777777777777778,
           "#fb9f3a"
          ],
          [
           0.8888888888888888,
           "#fdca26"
          ],
          [
           1,
           "#f0f921"
          ]
         ]
        },
        "geo": {
         "center": {},
         "domain": {
          "x": [
           0,
           1
          ],
          "y": [
           0,
           1
          ]
         },
         "showcoastlines": false,
         "showframe": false
        },
        "legend": {
         "tracegroupgap": 0
        },
        "margin": {
         "t": 60
        },
        "sliders": [
         {
          "active": 0,
          "currentvalue": {
           "prefix": "Date="
          },
          "len": 0.9,
          "pad": {
           "b": 10,
           "t": 60
          },
          "steps": [
           {
            "args": [
             [
              "05/01/2020"
             ],
             {
              "frame": {
               "duration": 0,
               "redraw": true
              },
              "fromcurrent": true,
              "mode": "immediate",
              "transition": {
               "duration": 0,
               "easing": "linear"
              }
             }
            ],
            "label": "05/01/2020",
            "method": "animate"
           },
           {
            "args": [
             [
              "03/23/2020"
             ],
             {
              "frame": {
               "duration": 0,
               "redraw": true
              },
              "fromcurrent": true,
              "mode": "immediate",
              "transition": {
               "duration": 0,
               "easing": "linear"
              }
             }
            ],
            "label": "03/23/2020",
            "method": "animate"
           },
           {
            "args": [
             [
              "03/21/2020"
             ],
             {
              "frame": {
               "duration": 0,
               "redraw": true
              },
              "fromcurrent": true,
              "mode": "immediate",
              "transition": {
               "duration": 0,
               "easing": "linear"
              }
             }
            ],
            "label": "03/21/2020",
            "method": "animate"
           },
           {
            "args": [
             [
              "03/19/2020"
             ],
             {
              "frame": {
               "duration": 0,
               "redraw": true
              },
              "fromcurrent": true,
              "mode": "immediate",
              "transition": {
               "duration": 0,
               "easing": "linear"
              }
             }
            ],
            "label": "03/19/2020",
            "method": "animate"
           },
           {
            "args": [
             [
              "03/15/2020"
             ],
             {
              "frame": {
               "duration": 0,
               "redraw": true
              },
              "fromcurrent": true,
              "mode": "immediate",
              "transition": {
               "duration": 0,
               "easing": "linear"
              }
             }
            ],
            "label": "03/15/2020",
            "method": "animate"
           },
           {
            "args": [
             [
              "03/10/2020"
             ],
             {
              "frame": {
               "duration": 0,
               "redraw": true
              },
              "fromcurrent": true,
              "mode": "immediate",
              "transition": {
               "duration": 0,
               "easing": "linear"
              }
             }
            ],
            "label": "03/10/2020",
            "method": "animate"
           },
           {
            "args": [
             [
              "03/09/2020"
             ],
             {
              "frame": {
               "duration": 0,
               "redraw": true
              },
              "fromcurrent": true,
              "mode": "immediate",
              "transition": {
               "duration": 0,
               "easing": "linear"
              }
             }
            ],
            "label": "03/09/2020",
            "method": "animate"
           },
           {
            "args": [
             [
              "03/08/2020"
             ],
             {
              "frame": {
               "duration": 0,
               "redraw": true
              },
              "fromcurrent": true,
              "mode": "immediate",
              "transition": {
               "duration": 0,
               "easing": "linear"
              }
             }
            ],
            "label": "03/08/2020",
            "method": "animate"
           },
           {
            "args": [
             [
              "02/28/2020"
             ],
             {
              "frame": {
               "duration": 0,
               "redraw": true
              },
              "fromcurrent": true,
              "mode": "immediate",
              "transition": {
               "duration": 0,
               "easing": "linear"
              }
             }
            ],
            "label": "02/28/2020",
            "method": "animate"
           }
          ],
          "x": 0.1,
          "xanchor": "left",
          "y": 0,
          "yanchor": "top"
         }
        ],
        "template": {
         "data": {
          "bar": [
           {
            "error_x": {
             "color": "#2a3f5f"
            },
            "error_y": {
             "color": "#2a3f5f"
            },
            "marker": {
             "line": {
              "color": "#E5ECF6",
              "width": 0.5
             }
            },
            "type": "bar"
           }
          ],
          "barpolar": [
           {
            "marker": {
             "line": {
              "color": "#E5ECF6",
              "width": 0.5
             }
            },
            "type": "barpolar"
           }
          ],
          "carpet": [
           {
            "aaxis": {
             "endlinecolor": "#2a3f5f",
             "gridcolor": "white",
             "linecolor": "white",
             "minorgridcolor": "white",
             "startlinecolor": "#2a3f5f"
            },
            "baxis": {
             "endlinecolor": "#2a3f5f",
             "gridcolor": "white",
             "linecolor": "white",
             "minorgridcolor": "white",
             "startlinecolor": "#2a3f5f"
            },
            "type": "carpet"
           }
          ],
          "choropleth": [
           {
            "colorbar": {
             "outlinewidth": 0,
             "ticks": ""
            },
            "type": "choropleth"
           }
          ],
          "contour": [
           {
            "colorbar": {
             "outlinewidth": 0,
             "ticks": ""
            },
            "colorscale": [
             [
              0,
              "#0d0887"
             ],
             [
              0.1111111111111111,
              "#46039f"
             ],
             [
              0.2222222222222222,
              "#7201a8"
             ],
             [
              0.3333333333333333,
              "#9c179e"
             ],
             [
              0.4444444444444444,
              "#bd3786"
             ],
             [
              0.5555555555555556,
              "#d8576b"
             ],
             [
              0.6666666666666666,
              "#ed7953"
             ],
             [
              0.7777777777777778,
              "#fb9f3a"
             ],
             [
              0.8888888888888888,
              "#fdca26"
             ],
             [
              1,
              "#f0f921"
             ]
            ],
            "type": "contour"
           }
          ],
          "contourcarpet": [
           {
            "colorbar": {
             "outlinewidth": 0,
             "ticks": ""
            },
            "type": "contourcarpet"
           }
          ],
          "heatmap": [
           {
            "colorbar": {
             "outlinewidth": 0,
             "ticks": ""
            },
            "colorscale": [
             [
              0,
              "#0d0887"
             ],
             [
              0.1111111111111111,
              "#46039f"
             ],
             [
              0.2222222222222222,
              "#7201a8"
             ],
             [
              0.3333333333333333,
              "#9c179e"
             ],
             [
              0.4444444444444444,
              "#bd3786"
             ],
             [
              0.5555555555555556,
              "#d8576b"
             ],
             [
              0.6666666666666666,
              "#ed7953"
             ],
             [
              0.7777777777777778,
              "#fb9f3a"
             ],
             [
              0.8888888888888888,
              "#fdca26"
             ],
             [
              1,
              "#f0f921"
             ]
            ],
            "type": "heatmap"
           }
          ],
          "heatmapgl": [
           {
            "colorbar": {
             "outlinewidth": 0,
             "ticks": ""
            },
            "colorscale": [
             [
              0,
              "#0d0887"
             ],
             [
              0.1111111111111111,
              "#46039f"
             ],
             [
              0.2222222222222222,
              "#7201a8"
             ],
             [
              0.3333333333333333,
              "#9c179e"
             ],
             [
              0.4444444444444444,
              "#bd3786"
             ],
             [
              0.5555555555555556,
              "#d8576b"
             ],
             [
              0.6666666666666666,
              "#ed7953"
             ],
             [
              0.7777777777777778,
              "#fb9f3a"
             ],
             [
              0.8888888888888888,
              "#fdca26"
             ],
             [
              1,
              "#f0f921"
             ]
            ],
            "type": "heatmapgl"
           }
          ],
          "histogram": [
           {
            "marker": {
             "colorbar": {
              "outlinewidth": 0,
              "ticks": ""
             }
            },
            "type": "histogram"
           }
          ],
          "histogram2d": [
           {
            "colorbar": {
             "outlinewidth": 0,
             "ticks": ""
            },
            "colorscale": [
             [
              0,
              "#0d0887"
             ],
             [
              0.1111111111111111,
              "#46039f"
             ],
             [
              0.2222222222222222,
              "#7201a8"
             ],
             [
              0.3333333333333333,
              "#9c179e"
             ],
             [
              0.4444444444444444,
              "#bd3786"
             ],
             [
              0.5555555555555556,
              "#d8576b"
             ],
             [
              0.6666666666666666,
              "#ed7953"
             ],
             [
              0.7777777777777778,
              "#fb9f3a"
             ],
             [
              0.8888888888888888,
              "#fdca26"
             ],
             [
              1,
              "#f0f921"
             ]
            ],
            "type": "histogram2d"
           }
          ],
          "histogram2dcontour": [
           {
            "colorbar": {
             "outlinewidth": 0,
             "ticks": ""
            },
            "colorscale": [
             [
              0,
              "#0d0887"
             ],
             [
              0.1111111111111111,
              "#46039f"
             ],
             [
              0.2222222222222222,
              "#7201a8"
             ],
             [
              0.3333333333333333,
              "#9c179e"
             ],
             [
              0.4444444444444444,
              "#bd3786"
             ],
             [
              0.5555555555555556,
              "#d8576b"
             ],
             [
              0.6666666666666666,
              "#ed7953"
             ],
             [
              0.7777777777777778,
              "#fb9f3a"
             ],
             [
              0.8888888888888888,
              "#fdca26"
             ],
             [
              1,
              "#f0f921"
             ]
            ],
            "type": "histogram2dcontour"
           }
          ],
          "mesh3d": [
           {
            "colorbar": {
             "outlinewidth": 0,
             "ticks": ""
            },
            "type": "mesh3d"
           }
          ],
          "parcoords": [
           {
            "line": {
             "colorbar": {
              "outlinewidth": 0,
              "ticks": ""
             }
            },
            "type": "parcoords"
           }
          ],
          "pie": [
           {
            "automargin": true,
            "type": "pie"
           }
          ],
          "scatter": [
           {
            "marker": {
             "colorbar": {
              "outlinewidth": 0,
              "ticks": ""
             }
            },
            "type": "scatter"
           }
          ],
          "scatter3d": [
           {
            "line": {
             "colorbar": {
              "outlinewidth": 0,
              "ticks": ""
             }
            },
            "marker": {
             "colorbar": {
              "outlinewidth": 0,
              "ticks": ""
             }
            },
            "type": "scatter3d"
           }
          ],
          "scattercarpet": [
           {
            "marker": {
             "colorbar": {
              "outlinewidth": 0,
              "ticks": ""
             }
            },
            "type": "scattercarpet"
           }
          ],
          "scattergeo": [
           {
            "marker": {
             "colorbar": {
              "outlinewidth": 0,
              "ticks": ""
             }
            },
            "type": "scattergeo"
           }
          ],
          "scattergl": [
           {
            "marker": {
             "colorbar": {
              "outlinewidth": 0,
              "ticks": ""
             }
            },
            "type": "scattergl"
           }
          ],
          "scattermapbox": [
           {
            "marker": {
             "colorbar": {
              "outlinewidth": 0,
              "ticks": ""
             }
            },
            "type": "scattermapbox"
           }
          ],
          "scatterpolar": [
           {
            "marker": {
             "colorbar": {
              "outlinewidth": 0,
              "ticks": ""
             }
            },
            "type": "scatterpolar"
           }
          ],
          "scatterpolargl": [
           {
            "marker": {
             "colorbar": {
              "outlinewidth": 0,
              "ticks": ""
             }
            },
            "type": "scatterpolargl"
           }
          ],
          "scatterternary": [
           {
            "marker": {
             "colorbar": {
              "outlinewidth": 0,
              "ticks": ""
             }
            },
            "type": "scatterternary"
           }
          ],
          "surface": [
           {
            "colorbar": {
             "outlinewidth": 0,
             "ticks": ""
            },
            "colorscale": [
             [
              0,
              "#0d0887"
             ],
             [
              0.1111111111111111,
              "#46039f"
             ],
             [
              0.2222222222222222,
              "#7201a8"
             ],
             [
              0.3333333333333333,
              "#9c179e"
             ],
             [
              0.4444444444444444,
              "#bd3786"
             ],
             [
              0.5555555555555556,
              "#d8576b"
             ],
             [
              0.6666666666666666,
              "#ed7953"
             ],
             [
              0.7777777777777778,
              "#fb9f3a"
             ],
             [
              0.8888888888888888,
              "#fdca26"
             ],
             [
              1,
              "#f0f921"
             ]
            ],
            "type": "surface"
           }
          ],
          "table": [
           {
            "cells": {
             "fill": {
              "color": "#EBF0F8"
             },
             "line": {
              "color": "white"
             }
            },
            "header": {
             "fill": {
              "color": "#C8D4E3"
             },
             "line": {
              "color": "white"
             }
            },
            "type": "table"
           }
          ]
         },
         "layout": {
          "annotationdefaults": {
           "arrowcolor": "#2a3f5f",
           "arrowhead": 0,
           "arrowwidth": 1
          },
          "autotypenumbers": "strict",
          "coloraxis": {
           "colorbar": {
            "outlinewidth": 0,
            "ticks": ""
           }
          },
          "colorscale": {
           "diverging": [
            [
             0,
             "#8e0152"
            ],
            [
             0.1,
             "#c51b7d"
            ],
            [
             0.2,
             "#de77ae"
            ],
            [
             0.3,
             "#f1b6da"
            ],
            [
             0.4,
             "#fde0ef"
            ],
            [
             0.5,
             "#f7f7f7"
            ],
            [
             0.6,
             "#e6f5d0"
            ],
            [
             0.7,
             "#b8e186"
            ],
            [
             0.8,
             "#7fbc41"
            ],
            [
             0.9,
             "#4d9221"
            ],
            [
             1,
             "#276419"
            ]
           ],
           "sequential": [
            [
             0,
             "#0d0887"
            ],
            [
             0.1111111111111111,
             "#46039f"
            ],
            [
             0.2222222222222222,
             "#7201a8"
            ],
            [
             0.3333333333333333,
             "#9c179e"
            ],
            [
             0.4444444444444444,
             "#bd3786"
            ],
            [
             0.5555555555555556,
             "#d8576b"
            ],
            [
             0.6666666666666666,
             "#ed7953"
            ],
            [
             0.7777777777777778,
             "#fb9f3a"
            ],
            [
             0.8888888888888888,
             "#fdca26"
            ],
            [
             1,
             "#f0f921"
            ]
           ],
           "sequentialminus": [
            [
             0,
             "#0d0887"
            ],
            [
             0.1111111111111111,
             "#46039f"
            ],
            [
             0.2222222222222222,
             "#7201a8"
            ],
            [
             0.3333333333333333,
             "#9c179e"
            ],
            [
             0.4444444444444444,
             "#bd3786"
            ],
            [
             0.5555555555555556,
             "#d8576b"
            ],
            [
             0.6666666666666666,
             "#ed7953"
            ],
            [
             0.7777777777777778,
             "#fb9f3a"
            ],
            [
             0.8888888888888888,
             "#fdca26"
            ],
            [
             1,
             "#f0f921"
            ]
           ]
          },
          "colorway": [
           "#636efa",
           "#EF553B",
           "#00cc96",
           "#ab63fa",
           "#FFA15A",
           "#19d3f3",
           "#FF6692",
           "#B6E880",
           "#FF97FF",
           "#FECB52"
          ],
          "font": {
           "color": "#2a3f5f"
          },
          "geo": {
           "bgcolor": "white",
           "lakecolor": "white",
           "landcolor": "#E5ECF6",
           "showlakes": true,
           "showland": true,
           "subunitcolor": "white"
          },
          "hoverlabel": {
           "align": "left"
          },
          "hovermode": "closest",
          "mapbox": {
           "style": "light"
          },
          "paper_bgcolor": "white",
          "plot_bgcolor": "#E5ECF6",
          "polar": {
           "angularaxis": {
            "gridcolor": "white",
            "linecolor": "white",
            "ticks": ""
           },
           "bgcolor": "#E5ECF6",
           "radialaxis": {
            "gridcolor": "white",
            "linecolor": "white",
            "ticks": ""
           }
          },
          "scene": {
           "xaxis": {
            "backgroundcolor": "#E5ECF6",
            "gridcolor": "white",
            "gridwidth": 2,
            "linecolor": "white",
            "showbackground": true,
            "ticks": "",
            "zerolinecolor": "white"
           },
           "yaxis": {
            "backgroundcolor": "#E5ECF6",
            "gridcolor": "white",
            "gridwidth": 2,
            "linecolor": "white",
            "showbackground": true,
            "ticks": "",
            "zerolinecolor": "white"
           },
           "zaxis": {
            "backgroundcolor": "#E5ECF6",
            "gridcolor": "white",
            "gridwidth": 2,
            "linecolor": "white",
            "showbackground": true,
            "ticks": "",
            "zerolinecolor": "white"
           }
          },
          "shapedefaults": {
           "line": {
            "color": "#2a3f5f"
           }
          },
          "ternary": {
           "aaxis": {
            "gridcolor": "white",
            "linecolor": "white",
            "ticks": ""
           },
           "baxis": {
            "gridcolor": "white",
            "linecolor": "white",
            "ticks": ""
           },
           "bgcolor": "#E5ECF6",
           "caxis": {
            "gridcolor": "white",
            "linecolor": "white",
            "ticks": ""
           }
          },
          "title": {
           "x": 0.05
          },
          "xaxis": {
           "automargin": true,
           "gridcolor": "white",
           "linecolor": "white",
           "ticks": "",
           "title": {
            "standoff": 15
           },
           "zerolinecolor": "white",
           "zerolinewidth": 2
          },
          "yaxis": {
           "automargin": true,
           "gridcolor": "white",
           "linecolor": "white",
           "ticks": "",
           "title": {
            "standoff": 15
           },
           "zerolinecolor": "white",
           "zerolinewidth": 2
          }
         }
        },
        "title": {
         "text": "Global Spread of Coronovirus",
         "x": 0.5
        },
        "updatemenus": [
         {
          "buttons": [
           {
            "args": [
             null,
             {
              "frame": {
               "duration": 500,
               "redraw": true
              },
              "fromcurrent": true,
              "mode": "immediate",
              "transition": {
               "duration": 500,
               "easing": "linear"
              }
             }
            ],
            "label": "&#9654;",
            "method": "animate"
           },
           {
            "args": [
             [
              null
             ],
             {
              "frame": {
               "duration": 0,
               "redraw": true
              },
              "fromcurrent": true,
              "mode": "immediate",
              "transition": {
               "duration": 0,
               "easing": "linear"
              }
             }
            ],
            "label": "&#9724;",
            "method": "animate"
           }
          ],
          "direction": "left",
          "pad": {
           "r": 10,
           "t": 70
          },
          "showactive": false,
          "type": "buttons",
          "x": 0.1,
          "xanchor": "right",
          "y": 0,
          "yanchor": "top"
         }
        ]
       }
      },
      "text/html": [
       "<div>                            <div id=\"92ad3922-7b17-4494-9b6d-8874899fb47b\" class=\"plotly-graph-div\" style=\"height:525px; width:100%;\"></div>            <script type=\"text/javascript\">                require([\"plotly\"], function(Plotly) {                    window.PLOTLYENV=window.PLOTLYENV || {};                                    if (document.getElementById(\"92ad3922-7b17-4494-9b6d-8874899fb47b\")) {                    Plotly.newPlot(                        \"92ad3922-7b17-4494-9b6d-8874899fb47b\",                        [{\"coloraxis\": \"coloraxis\", \"geo\": \"geo\", \"hovertemplate\": \"<b>%{hovertext}</b><br><br>Date=05/01/2020<br>Country=%{location}<br>Confirmed=%{z}<extra></extra>\", \"hovertext\": [\"Cyprus\", \"Haiti\", \"Sudan\", \"Guinea-Bissau\", \"Netherlands\", \"Bolivia\", \"Eritrea\", \"Guyana\", \"Ukraine\", \"India\", \"Diamond Princess\", \"Luxembourg\", \"Cabo Verde\", \"Thailand\", \"Algeria\", \"Botswana\", \"New Zealand\", \"Finland\", \"Lithuania\", \"Papua New Guinea\", \"Congo (Kinshasa)\", \"West Bank and Gaza\", \"Japan\", \"Bosnia and Herzegovina\", \"Slovakia\", \"Liechtenstein\", \"Estonia\", \"Togo\", \"MS Zaandam\", \"Singapore\", \"Equatorial Guinea\", \"Bhutan\", \"Seychelles\", \"San Marino\", \"Albania\", \"Austria\", \"Romania\", \"Peru\", \"Guatemala\", \"France\", \"Benin\", \"Zambia\", \"Sierra Leone\", \"Madagascar\", \"Uruguay\", \"Ivory Coast\", \"Denmark\", \"Guinea\", \"Macau\", \"Jamaica\", \"Costa Rica\", \"Vietnam\", \"Nepal\", \"Saint Vincent and the Grenadines\", \"Chad\", \"South Africa\", \"Australia\", \"Panama\", \"Nicaragua\", \"Namibia\", \"Burkina Faso\", \"Honduras\", \"Slovenia\", \"Latvia\", \"Hungary\", \"Dominica\", \"Brunei\", \"Kenya\", \"North Macedonia\", \"Sweden\", \"Eswatini\", \"Yemen\", \"Laos\", \"Norway\", \"Suriname\", \"Saint Kitts and Nevis\", \"Antigua and Barbuda\", \"Hong Kong\", \"Kyrgyzstan\", \"Angola\", \"Comoros\", \"Colombia\", \"Rwanda\", \"Oman\", \"Bulgaria\", \"Ethiopia\", \"Kuwait\", \"Burma\", \"Chile\", \"United Arab Emirates\", \"Brazil\", \"Iceland\", \"Western Sahara\", \"Armenia\", \"Holy See\", \"Libya\", \"Jordan\", \"Djibouti\", \"Switzerland\", \"Burundi\", \"Liberia\", \"Niger\", \"Lebanon\", \"Russia\", \"Dominican Republic\", \"Timor-Leste\", \"Nigeria\", \"Saint Lucia\", \"UK\", \"Fiji\", \"Congo (Brazzaville)\", \"Andorra\", \"Pakistan\", \"Argentina\", \"Kazakhstan\", \"Somalia\", \"Belize\", \"Paraguay\", \"Mongolia\", \"Sri Lanka\", \"Monaco\", \"Qatar\", \"Poland\", \"Cuba\", \"Venezuela\", \"Belarus\", \"Uzbekistan\", \"El Salvador\", \"Cambodia\", \"Czech Republic\", \"Maldives\", \"Bahamas\", \"Greece\", \"Afghanistan\", \"Uganda\", \"Syria\", \"Malaysia\", \"Cameroon\", \"Montenegro\", \"Sao Tome and Principe\", \"Israel\", \"Philippines\", \"Tanzania\", \"Iran\", \"Mali\", \"South Sudan\", \"Senegal\", \"Zimbabwe\", \"Mexico\", \"Saudi Arabia\", \"Bangladesh\", \"Mauritius\", \"Canada\", \"Moldova\", \"Iraq\", \"Germany\", \"Mauritania\", \"Barbados\", \"Bahrain\", \"Egypt\", \"Ireland\", \"Spain\", \"Portugal\", \"Ghana\", \"Malta\", \"Taiwan\", \"US\", \"Tajikistan\", \"Georgia\", \"Turkey\", \"Grenada\", \"Kosovo\", \"Trinidad and Tobago\", \"Croatia\", \"Malawi\", \"Serbia\", \"Mozambique\", \"Mainland China\", \"Central African Republic\", \"Ecuador\", \"Indonesia\", \"Azerbaijan\", \"Gabon\", \"Tunisia\", \"Italy\", \"South Korea\", \"Belgium\", \"Gambia\", \"Morocco\"], \"locationmode\": \"country names\", \"locations\": [\"Cyprus\", \"Haiti\", \"Sudan\", \"Guinea-Bissau\", \"Netherlands\", \"Bolivia\", \"Eritrea\", \"Guyana\", \"Ukraine\", \"India\", \"Diamond Princess\", \"Luxembourg\", \"Cabo Verde\", \"Thailand\", \"Algeria\", \"Botswana\", \"New Zealand\", \"Finland\", \"Lithuania\", \"Papua New Guinea\", \"Congo (Kinshasa)\", \"West Bank and Gaza\", \"Japan\", \"Bosnia and Herzegovina\", \"Slovakia\", \"Liechtenstein\", \"Estonia\", \"Togo\", \"MS Zaandam\", \"Singapore\", \"Equatorial Guinea\", \"Bhutan\", \"Seychelles\", \"San Marino\", \"Albania\", \"Austria\", \"Romania\", \"Peru\", \"Guatemala\", \"France\", \"Benin\", \"Zambia\", \"Sierra Leone\", \"Madagascar\", \"Uruguay\", \"Ivory Coast\", \"Denmark\", \"Guinea\", \"Macau\", \"Jamaica\", \"Costa Rica\", \"Vietnam\", \"Nepal\", \"Saint Vincent and the Grenadines\", \"Chad\", \"South Africa\", \"Australia\", \"Panama\", \"Nicaragua\", \"Namibia\", \"Burkina Faso\", \"Honduras\", \"Slovenia\", \"Latvia\", \"Hungary\", \"Dominica\", \"Brunei\", \"Kenya\", \"North Macedonia\", \"Sweden\", \"Eswatini\", \"Yemen\", \"Laos\", \"Norway\", \"Suriname\", \"Saint Kitts and Nevis\", \"Antigua and Barbuda\", \"Hong Kong\", \"Kyrgyzstan\", \"Angola\", \"Comoros\", \"Colombia\", \"Rwanda\", \"Oman\", \"Bulgaria\", \"Ethiopia\", \"Kuwait\", \"Burma\", \"Chile\", \"United Arab Emirates\", \"Brazil\", \"Iceland\", \"Western Sahara\", \"Armenia\", \"Holy See\", \"Libya\", \"Jordan\", \"Djibouti\", \"Switzerland\", \"Burundi\", \"Liberia\", \"Niger\", \"Lebanon\", \"Russia\", \"Dominican Republic\", \"Timor-Leste\", \"Nigeria\", \"Saint Lucia\", \"UK\", \"Fiji\", \"Congo (Brazzaville)\", \"Andorra\", \"Pakistan\", \"Argentina\", \"Kazakhstan\", \"Somalia\", \"Belize\", \"Paraguay\", \"Mongolia\", \"Sri Lanka\", \"Monaco\", \"Qatar\", \"Poland\", \"Cuba\", \"Venezuela\", \"Belarus\", \"Uzbekistan\", \"El Salvador\", \"Cambodia\", \"Czech Republic\", \"Maldives\", \"Bahamas\", \"Greece\", \"Afghanistan\", \"Uganda\", \"Syria\", \"Malaysia\", \"Cameroon\", \"Montenegro\", \"Sao Tome and Principe\", \"Israel\", \"Philippines\", \"Tanzania\", \"Iran\", \"Mali\", \"South Sudan\", \"Senegal\", \"Zimbabwe\", \"Mexico\", \"Saudi Arabia\", \"Bangladesh\", \"Mauritius\", \"Canada\", \"Moldova\", \"Iraq\", \"Germany\", \"Mauritania\", \"Barbados\", \"Bahrain\", \"Egypt\", \"Ireland\", \"Spain\", \"Portugal\", \"Ghana\", \"Malta\", \"Taiwan\", \"US\", \"Tajikistan\", \"Georgia\", \"Turkey\", \"Grenada\", \"Kosovo\", \"Trinidad and Tobago\", \"Croatia\", \"Malawi\", \"Serbia\", \"Mozambique\", \"Mainland China\", \"Central African Republic\", \"Ecuador\", \"Indonesia\", \"Azerbaijan\", \"Gabon\", \"Tunisia\", \"Italy\", \"South Korea\", \"Belgium\", \"Gambia\", \"Morocco\"], \"name\": \"\", \"type\": \"choropleth\", \"z\": [857.0, 85.0, 533.0, 257.0, 39989.0, 1229.0, 39.0, 82.0, 10861.0, 37257.0, 712.0, 3802.0, 122.0, 2960.0, 4154.0, 23.0, 1485.0, 5051.0, 1399.0, 8.0, 604.0, 353.0, 14305.0, 1781.0, 1403.0, 82.0, 1694.0, 123.0, 9.0, 17101.0, 315.0, 7.0, 11.0, 580.0, 782.0, 15531.0, 12567.0, 40459.0, 644.0, 167305.0, 90.0, 109.0, 136.0, 132.0, 648.0, 1333.0, 9509.0, 1537.0, 45.0, 432.0, 725.0, 270.0, 59.0, 16.0, 73.0, 5951.0, 6778.0, 6720.0, 14.0, 16.0, 649.0, 804.0, 1434.0, 870.0, 2863.0, 16.0, 138.0, 411.0, 1494.0, 21520.0, 106.0, 7.0, 19.0, 7783.0, 10.0, 15.0, 25.0, 1039.0, 756.0, 30.0, 1.0, 7006.0, 249.0, 2447.0, 1555.0, 133.0, 4377.0, 151.0, 17008.0, 13038.0, 92202.0, 1798.0, 6.0, 2148.0, 11.0, 63.0, 459.0, 1097.0, 29705.0, 11.0, 152.0, 728.0, 729.0, 114431.0, 7288.0, 24.0, 2170.0, 17.0, 178685.0, 18.0, 229.0, 745.0, 18114.0, 4532.0, 3597.0, 601.0, 18.0, 333.0, 38.0, 690.0, 95.0, 14096.0, 13105.0, 1537.0, 335.0, 14917.0, 2086.0, 424.0, 122.0, 7737.0, 491.0, 81.0, 2612.0, 2335.0, 85.0, 44.0, 6071.0, 1832.0, 322.0, 16.0, 16101.0, 8772.0, 480.0, 95646.0, 508.0, 45.0, 1024.0, 40.0, 20739.0, 24097.0, 8238.0, 332.0, 56343.0, 3980.0, 2153.0, 164077.0, 8.0, 81.0, 3170.0, 5895.0, 20833.0, 213435.0, 25351.0, 2074.0, 467.0, 429.0, 1103461.0, 15.0, 566.0, 122392.0, 20.0, 806.0, 116.0, 2085.0, 37.0, 9009.0, 79.0, 82875.0, 72.0, 26336.0, 10551.0, 1854.0, 276.0, 998.0, 207428.0, 10780.0, 49032.0, 12.0, 4569.0]}],                        {\"coloraxis\": {\"colorbar\": {\"title\": {\"text\": \"Confirmed\"}}, \"colorscale\": [[0.0, \"#0d0887\"], [0.1111111111111111, \"#46039f\"], [0.2222222222222222, \"#7201a8\"], [0.3333333333333333, \"#9c179e\"], [0.4444444444444444, \"#bd3786\"], [0.5555555555555556, \"#d8576b\"], [0.6666666666666666, \"#ed7953\"], [0.7777777777777778, \"#fb9f3a\"], [0.8888888888888888, \"#fdca26\"], [1.0, \"#f0f921\"]]}, \"geo\": {\"center\": {}, \"domain\": {\"x\": [0.0, 1.0], \"y\": [0.0, 1.0]}, \"showcoastlines\": false, \"showframe\": false}, \"legend\": {\"tracegroupgap\": 0}, \"margin\": {\"t\": 60}, \"sliders\": [{\"active\": 0, \"currentvalue\": {\"prefix\": \"Date=\"}, \"len\": 0.9, \"pad\": {\"b\": 10, \"t\": 60}, \"steps\": [{\"args\": [[\"05/01/2020\"], {\"frame\": {\"duration\": 0, \"redraw\": true}, \"fromcurrent\": true, \"mode\": \"immediate\", \"transition\": {\"duration\": 0, \"easing\": \"linear\"}}], \"label\": \"05/01/2020\", \"method\": \"animate\"}, {\"args\": [[\"03/23/2020\"], {\"frame\": {\"duration\": 0, \"redraw\": true}, \"fromcurrent\": true, \"mode\": \"immediate\", \"transition\": {\"duration\": 0, \"easing\": \"linear\"}}], \"label\": \"03/23/2020\", \"method\": \"animate\"}, {\"args\": [[\"03/21/2020\"], {\"frame\": {\"duration\": 0, \"redraw\": true}, \"fromcurrent\": true, \"mode\": \"immediate\", \"transition\": {\"duration\": 0, \"easing\": \"linear\"}}], \"label\": \"03/21/2020\", \"method\": \"animate\"}, {\"args\": [[\"03/19/2020\"], {\"frame\": {\"duration\": 0, \"redraw\": true}, \"fromcurrent\": true, \"mode\": \"immediate\", \"transition\": {\"duration\": 0, \"easing\": \"linear\"}}], \"label\": \"03/19/2020\", \"method\": \"animate\"}, {\"args\": [[\"03/15/2020\"], {\"frame\": {\"duration\": 0, \"redraw\": true}, \"fromcurrent\": true, \"mode\": \"immediate\", \"transition\": {\"duration\": 0, \"easing\": \"linear\"}}], \"label\": \"03/15/2020\", \"method\": \"animate\"}, {\"args\": [[\"03/10/2020\"], {\"frame\": {\"duration\": 0, \"redraw\": true}, \"fromcurrent\": true, \"mode\": \"immediate\", \"transition\": {\"duration\": 0, \"easing\": \"linear\"}}], \"label\": \"03/10/2020\", \"method\": \"animate\"}, {\"args\": [[\"03/09/2020\"], {\"frame\": {\"duration\": 0, \"redraw\": true}, \"fromcurrent\": true, \"mode\": \"immediate\", \"transition\": {\"duration\": 0, \"easing\": \"linear\"}}], \"label\": \"03/09/2020\", \"method\": \"animate\"}, {\"args\": [[\"03/08/2020\"], {\"frame\": {\"duration\": 0, \"redraw\": true}, \"fromcurrent\": true, \"mode\": \"immediate\", \"transition\": {\"duration\": 0, \"easing\": \"linear\"}}], \"label\": \"03/08/2020\", \"method\": \"animate\"}, {\"args\": [[\"02/28/2020\"], {\"frame\": {\"duration\": 0, \"redraw\": true}, \"fromcurrent\": true, \"mode\": \"immediate\", \"transition\": {\"duration\": 0, \"easing\": \"linear\"}}], \"label\": \"02/28/2020\", \"method\": \"animate\"}], \"x\": 0.1, \"xanchor\": \"left\", \"y\": 0, \"yanchor\": \"top\"}], \"template\": {\"data\": {\"bar\": [{\"error_x\": {\"color\": \"#2a3f5f\"}, \"error_y\": {\"color\": \"#2a3f5f\"}, \"marker\": {\"line\": {\"color\": \"#E5ECF6\", \"width\": 0.5}}, \"type\": \"bar\"}], \"barpolar\": [{\"marker\": {\"line\": {\"color\": \"#E5ECF6\", \"width\": 0.5}}, \"type\": \"barpolar\"}], \"carpet\": [{\"aaxis\": {\"endlinecolor\": \"#2a3f5f\", \"gridcolor\": \"white\", \"linecolor\": \"white\", \"minorgridcolor\": \"white\", \"startlinecolor\": \"#2a3f5f\"}, \"baxis\": {\"endlinecolor\": \"#2a3f5f\", \"gridcolor\": \"white\", \"linecolor\": \"white\", \"minorgridcolor\": \"white\", \"startlinecolor\": \"#2a3f5f\"}, \"type\": \"carpet\"}], \"choropleth\": [{\"colorbar\": {\"outlinewidth\": 0, \"ticks\": \"\"}, \"type\": \"choropleth\"}], \"contour\": [{\"colorbar\": {\"outlinewidth\": 0, \"ticks\": \"\"}, \"colorscale\": [[0.0, \"#0d0887\"], [0.1111111111111111, \"#46039f\"], [0.2222222222222222, \"#7201a8\"], [0.3333333333333333, \"#9c179e\"], [0.4444444444444444, \"#bd3786\"], [0.5555555555555556, \"#d8576b\"], [0.6666666666666666, \"#ed7953\"], [0.7777777777777778, \"#fb9f3a\"], [0.8888888888888888, \"#fdca26\"], [1.0, \"#f0f921\"]], \"type\": \"contour\"}], \"contourcarpet\": [{\"colorbar\": {\"outlinewidth\": 0, \"ticks\": \"\"}, \"type\": \"contourcarpet\"}], \"heatmap\": [{\"colorbar\": {\"outlinewidth\": 0, \"ticks\": \"\"}, \"colorscale\": [[0.0, \"#0d0887\"], [0.1111111111111111, \"#46039f\"], [0.2222222222222222, \"#7201a8\"], [0.3333333333333333, \"#9c179e\"], [0.4444444444444444, \"#bd3786\"], [0.5555555555555556, \"#d8576b\"], [0.6666666666666666, \"#ed7953\"], [0.7777777777777778, \"#fb9f3a\"], [0.8888888888888888, \"#fdca26\"], [1.0, \"#f0f921\"]], \"type\": \"heatmap\"}], \"heatmapgl\": [{\"colorbar\": {\"outlinewidth\": 0, \"ticks\": \"\"}, \"colorscale\": [[0.0, \"#0d0887\"], [0.1111111111111111, \"#46039f\"], [0.2222222222222222, \"#7201a8\"], [0.3333333333333333, \"#9c179e\"], [0.4444444444444444, \"#bd3786\"], [0.5555555555555556, \"#d8576b\"], [0.6666666666666666, \"#ed7953\"], [0.7777777777777778, \"#fb9f3a\"], [0.8888888888888888, \"#fdca26\"], [1.0, \"#f0f921\"]], \"type\": \"heatmapgl\"}], \"histogram\": [{\"marker\": {\"colorbar\": {\"outlinewidth\": 0, \"ticks\": \"\"}}, \"type\": \"histogram\"}], \"histogram2d\": [{\"colorbar\": {\"outlinewidth\": 0, \"ticks\": \"\"}, \"colorscale\": [[0.0, \"#0d0887\"], [0.1111111111111111, \"#46039f\"], [0.2222222222222222, \"#7201a8\"], [0.3333333333333333, \"#9c179e\"], [0.4444444444444444, \"#bd3786\"], [0.5555555555555556, \"#d8576b\"], [0.6666666666666666, \"#ed7953\"], [0.7777777777777778, \"#fb9f3a\"], [0.8888888888888888, \"#fdca26\"], [1.0, \"#f0f921\"]], \"type\": \"histogram2d\"}], \"histogram2dcontour\": [{\"colorbar\": {\"outlinewidth\": 0, \"ticks\": \"\"}, \"colorscale\": [[0.0, \"#0d0887\"], [0.1111111111111111, \"#46039f\"], [0.2222222222222222, \"#7201a8\"], [0.3333333333333333, \"#9c179e\"], [0.4444444444444444, \"#bd3786\"], [0.5555555555555556, \"#d8576b\"], [0.6666666666666666, \"#ed7953\"], [0.7777777777777778, \"#fb9f3a\"], [0.8888888888888888, \"#fdca26\"], [1.0, \"#f0f921\"]], \"type\": \"histogram2dcontour\"}], \"mesh3d\": [{\"colorbar\": {\"outlinewidth\": 0, \"ticks\": \"\"}, \"type\": \"mesh3d\"}], \"parcoords\": [{\"line\": {\"colorbar\": {\"outlinewidth\": 0, \"ticks\": \"\"}}, \"type\": \"parcoords\"}], \"pie\": [{\"automargin\": true, \"type\": \"pie\"}], \"scatter\": [{\"marker\": {\"colorbar\": {\"outlinewidth\": 0, \"ticks\": \"\"}}, \"type\": \"scatter\"}], \"scatter3d\": [{\"line\": {\"colorbar\": {\"outlinewidth\": 0, \"ticks\": \"\"}}, \"marker\": {\"colorbar\": {\"outlinewidth\": 0, \"ticks\": \"\"}}, \"type\": \"scatter3d\"}], \"scattercarpet\": [{\"marker\": {\"colorbar\": {\"outlinewidth\": 0, \"ticks\": \"\"}}, \"type\": \"scattercarpet\"}], \"scattergeo\": [{\"marker\": {\"colorbar\": {\"outlinewidth\": 0, \"ticks\": \"\"}}, \"type\": \"scattergeo\"}], \"scattergl\": [{\"marker\": {\"colorbar\": {\"outlinewidth\": 0, \"ticks\": \"\"}}, \"type\": \"scattergl\"}], \"scattermapbox\": [{\"marker\": {\"colorbar\": {\"outlinewidth\": 0, \"ticks\": \"\"}}, \"type\": \"scattermapbox\"}], \"scatterpolar\": [{\"marker\": {\"colorbar\": {\"outlinewidth\": 0, \"ticks\": \"\"}}, \"type\": \"scatterpolar\"}], \"scatterpolargl\": [{\"marker\": {\"colorbar\": {\"outlinewidth\": 0, \"ticks\": \"\"}}, \"type\": \"scatterpolargl\"}], \"scatterternary\": [{\"marker\": {\"colorbar\": {\"outlinewidth\": 0, \"ticks\": \"\"}}, \"type\": \"scatterternary\"}], \"surface\": [{\"colorbar\": {\"outlinewidth\": 0, \"ticks\": \"\"}, \"colorscale\": [[0.0, \"#0d0887\"], [0.1111111111111111, \"#46039f\"], [0.2222222222222222, \"#7201a8\"], [0.3333333333333333, \"#9c179e\"], [0.4444444444444444, \"#bd3786\"], [0.5555555555555556, \"#d8576b\"], [0.6666666666666666, \"#ed7953\"], [0.7777777777777778, \"#fb9f3a\"], [0.8888888888888888, \"#fdca26\"], [1.0, \"#f0f921\"]], \"type\": \"surface\"}], \"table\": [{\"cells\": {\"fill\": {\"color\": \"#EBF0F8\"}, \"line\": {\"color\": \"white\"}}, \"header\": {\"fill\": {\"color\": \"#C8D4E3\"}, \"line\": {\"color\": \"white\"}}, \"type\": \"table\"}]}, \"layout\": {\"annotationdefaults\": {\"arrowcolor\": \"#2a3f5f\", \"arrowhead\": 0, \"arrowwidth\": 1}, \"autotypenumbers\": \"strict\", \"coloraxis\": {\"colorbar\": {\"outlinewidth\": 0, \"ticks\": \"\"}}, \"colorscale\": {\"diverging\": [[0, \"#8e0152\"], [0.1, \"#c51b7d\"], [0.2, \"#de77ae\"], [0.3, \"#f1b6da\"], [0.4, \"#fde0ef\"], [0.5, \"#f7f7f7\"], [0.6, \"#e6f5d0\"], [0.7, \"#b8e186\"], [0.8, \"#7fbc41\"], [0.9, \"#4d9221\"], [1, \"#276419\"]], \"sequential\": [[0.0, \"#0d0887\"], [0.1111111111111111, \"#46039f\"], [0.2222222222222222, \"#7201a8\"], [0.3333333333333333, \"#9c179e\"], [0.4444444444444444, \"#bd3786\"], [0.5555555555555556, \"#d8576b\"], [0.6666666666666666, \"#ed7953\"], [0.7777777777777778, \"#fb9f3a\"], [0.8888888888888888, \"#fdca26\"], [1.0, \"#f0f921\"]], \"sequentialminus\": [[0.0, \"#0d0887\"], [0.1111111111111111, \"#46039f\"], [0.2222222222222222, \"#7201a8\"], [0.3333333333333333, \"#9c179e\"], [0.4444444444444444, \"#bd3786\"], [0.5555555555555556, \"#d8576b\"], [0.6666666666666666, \"#ed7953\"], [0.7777777777777778, \"#fb9f3a\"], [0.8888888888888888, \"#fdca26\"], [1.0, \"#f0f921\"]]}, \"colorway\": [\"#636efa\", \"#EF553B\", \"#00cc96\", \"#ab63fa\", \"#FFA15A\", \"#19d3f3\", \"#FF6692\", \"#B6E880\", \"#FF97FF\", \"#FECB52\"], \"font\": {\"color\": \"#2a3f5f\"}, \"geo\": {\"bgcolor\": \"white\", \"lakecolor\": \"white\", \"landcolor\": \"#E5ECF6\", \"showlakes\": true, \"showland\": true, \"subunitcolor\": \"white\"}, \"hoverlabel\": {\"align\": \"left\"}, \"hovermode\": \"closest\", \"mapbox\": {\"style\": \"light\"}, \"paper_bgcolor\": \"white\", \"plot_bgcolor\": \"#E5ECF6\", \"polar\": {\"angularaxis\": {\"gridcolor\": \"white\", \"linecolor\": \"white\", \"ticks\": \"\"}, \"bgcolor\": \"#E5ECF6\", \"radialaxis\": {\"gridcolor\": \"white\", \"linecolor\": \"white\", \"ticks\": \"\"}}, \"scene\": {\"xaxis\": {\"backgroundcolor\": \"#E5ECF6\", \"gridcolor\": \"white\", \"gridwidth\": 2, \"linecolor\": \"white\", \"showbackground\": true, \"ticks\": \"\", \"zerolinecolor\": \"white\"}, \"yaxis\": {\"backgroundcolor\": \"#E5ECF6\", \"gridcolor\": \"white\", \"gridwidth\": 2, \"linecolor\": \"white\", \"showbackground\": true, \"ticks\": \"\", \"zerolinecolor\": \"white\"}, \"zaxis\": {\"backgroundcolor\": \"#E5ECF6\", \"gridcolor\": \"white\", \"gridwidth\": 2, \"linecolor\": \"white\", \"showbackground\": true, \"ticks\": \"\", \"zerolinecolor\": \"white\"}}, \"shapedefaults\": {\"line\": {\"color\": \"#2a3f5f\"}}, \"ternary\": {\"aaxis\": {\"gridcolor\": \"white\", \"linecolor\": \"white\", \"ticks\": \"\"}, \"baxis\": {\"gridcolor\": \"white\", \"linecolor\": \"white\", \"ticks\": \"\"}, \"bgcolor\": \"#E5ECF6\", \"caxis\": {\"gridcolor\": \"white\", \"linecolor\": \"white\", \"ticks\": \"\"}}, \"title\": {\"x\": 0.05}, \"xaxis\": {\"automargin\": true, \"gridcolor\": \"white\", \"linecolor\": \"white\", \"ticks\": \"\", \"title\": {\"standoff\": 15}, \"zerolinecolor\": \"white\", \"zerolinewidth\": 2}, \"yaxis\": {\"automargin\": true, \"gridcolor\": \"white\", \"linecolor\": \"white\", \"ticks\": \"\", \"title\": {\"standoff\": 15}, \"zerolinecolor\": \"white\", \"zerolinewidth\": 2}}}, \"title\": {\"text\": \"Global Spread of Coronovirus\", \"x\": 0.5}, \"updatemenus\": [{\"buttons\": [{\"args\": [null, {\"frame\": {\"duration\": 500, \"redraw\": true}, \"fromcurrent\": true, \"mode\": \"immediate\", \"transition\": {\"duration\": 500, \"easing\": \"linear\"}}], \"label\": \"&#9654;\", \"method\": \"animate\"}, {\"args\": [[null], {\"frame\": {\"duration\": 0, \"redraw\": true}, \"fromcurrent\": true, \"mode\": \"immediate\", \"transition\": {\"duration\": 0, \"easing\": \"linear\"}}], \"label\": \"&#9724;\", \"method\": \"animate\"}], \"direction\": \"left\", \"pad\": {\"r\": 10, \"t\": 70}, \"showactive\": false, \"type\": \"buttons\", \"x\": 0.1, \"xanchor\": \"right\", \"y\": 0, \"yanchor\": \"top\"}]},                        {\"responsive\": true}                    ).then(function(){\n",
       "                            Plotly.addFrames('92ad3922-7b17-4494-9b6d-8874899fb47b', [{\"data\": [{\"coloraxis\": \"coloraxis\", \"geo\": \"geo\", \"hovertemplate\": \"<b>%{hovertext}</b><br><br>Date=05/01/2020<br>Country=%{location}<br>Confirmed=%{z}<extra></extra>\", \"hovertext\": [\"Cyprus\", \"Haiti\", \"Sudan\", \"Guinea-Bissau\", \"Netherlands\", \"Bolivia\", \"Eritrea\", \"Guyana\", \"Ukraine\", \"India\", \"Diamond Princess\", \"Luxembourg\", \"Cabo Verde\", \"Thailand\", \"Algeria\", \"Botswana\", \"New Zealand\", \"Finland\", \"Lithuania\", \"Papua New Guinea\", \"Congo (Kinshasa)\", \"West Bank and Gaza\", \"Japan\", \"Bosnia and Herzegovina\", \"Slovakia\", \"Liechtenstein\", \"Estonia\", \"Togo\", \"MS Zaandam\", \"Singapore\", \"Equatorial Guinea\", \"Bhutan\", \"Seychelles\", \"San Marino\", \"Albania\", \"Austria\", \"Romania\", \"Peru\", \"Guatemala\", \"France\", \"Benin\", \"Zambia\", \"Sierra Leone\", \"Madagascar\", \"Uruguay\", \"Ivory Coast\", \"Denmark\", \"Guinea\", \"Macau\", \"Jamaica\", \"Costa Rica\", \"Vietnam\", \"Nepal\", \"Saint Vincent and the Grenadines\", \"Chad\", \"South Africa\", \"Australia\", \"Panama\", \"Nicaragua\", \"Namibia\", \"Burkina Faso\", \"Honduras\", \"Slovenia\", \"Latvia\", \"Hungary\", \"Dominica\", \"Brunei\", \"Kenya\", \"North Macedonia\", \"Sweden\", \"Eswatini\", \"Yemen\", \"Laos\", \"Norway\", \"Suriname\", \"Saint Kitts and Nevis\", \"Antigua and Barbuda\", \"Hong Kong\", \"Kyrgyzstan\", \"Angola\", \"Comoros\", \"Colombia\", \"Rwanda\", \"Oman\", \"Bulgaria\", \"Ethiopia\", \"Kuwait\", \"Burma\", \"Chile\", \"United Arab Emirates\", \"Brazil\", \"Iceland\", \"Western Sahara\", \"Armenia\", \"Holy See\", \"Libya\", \"Jordan\", \"Djibouti\", \"Switzerland\", \"Burundi\", \"Liberia\", \"Niger\", \"Lebanon\", \"Russia\", \"Dominican Republic\", \"Timor-Leste\", \"Nigeria\", \"Saint Lucia\", \"UK\", \"Fiji\", \"Congo (Brazzaville)\", \"Andorra\", \"Pakistan\", \"Argentina\", \"Kazakhstan\", \"Somalia\", \"Belize\", \"Paraguay\", \"Mongolia\", \"Sri Lanka\", \"Monaco\", \"Qatar\", \"Poland\", \"Cuba\", \"Venezuela\", \"Belarus\", \"Uzbekistan\", \"El Salvador\", \"Cambodia\", \"Czech Republic\", \"Maldives\", \"Bahamas\", \"Greece\", \"Afghanistan\", \"Uganda\", \"Syria\", \"Malaysia\", \"Cameroon\", \"Montenegro\", \"Sao Tome and Principe\", \"Israel\", \"Philippines\", \"Tanzania\", \"Iran\", \"Mali\", \"South Sudan\", \"Senegal\", \"Zimbabwe\", \"Mexico\", \"Saudi Arabia\", \"Bangladesh\", \"Mauritius\", \"Canada\", \"Moldova\", \"Iraq\", \"Germany\", \"Mauritania\", \"Barbados\", \"Bahrain\", \"Egypt\", \"Ireland\", \"Spain\", \"Portugal\", \"Ghana\", \"Malta\", \"Taiwan\", \"US\", \"Tajikistan\", \"Georgia\", \"Turkey\", \"Grenada\", \"Kosovo\", \"Trinidad and Tobago\", \"Croatia\", \"Malawi\", \"Serbia\", \"Mozambique\", \"Mainland China\", \"Central African Republic\", \"Ecuador\", \"Indonesia\", \"Azerbaijan\", \"Gabon\", \"Tunisia\", \"Italy\", \"South Korea\", \"Belgium\", \"Gambia\", \"Morocco\"], \"locationmode\": \"country names\", \"locations\": [\"Cyprus\", \"Haiti\", \"Sudan\", \"Guinea-Bissau\", \"Netherlands\", \"Bolivia\", \"Eritrea\", \"Guyana\", \"Ukraine\", \"India\", \"Diamond Princess\", \"Luxembourg\", \"Cabo Verde\", \"Thailand\", \"Algeria\", \"Botswana\", \"New Zealand\", \"Finland\", \"Lithuania\", \"Papua New Guinea\", \"Congo (Kinshasa)\", \"West Bank and Gaza\", \"Japan\", \"Bosnia and Herzegovina\", \"Slovakia\", \"Liechtenstein\", \"Estonia\", \"Togo\", \"MS Zaandam\", \"Singapore\", \"Equatorial Guinea\", \"Bhutan\", \"Seychelles\", \"San Marino\", \"Albania\", \"Austria\", \"Romania\", \"Peru\", \"Guatemala\", \"France\", \"Benin\", \"Zambia\", \"Sierra Leone\", \"Madagascar\", \"Uruguay\", \"Ivory Coast\", \"Denmark\", \"Guinea\", \"Macau\", \"Jamaica\", \"Costa Rica\", \"Vietnam\", \"Nepal\", \"Saint Vincent and the Grenadines\", \"Chad\", \"South Africa\", \"Australia\", \"Panama\", \"Nicaragua\", \"Namibia\", \"Burkina Faso\", \"Honduras\", \"Slovenia\", \"Latvia\", \"Hungary\", \"Dominica\", \"Brunei\", \"Kenya\", \"North Macedonia\", \"Sweden\", \"Eswatini\", \"Yemen\", \"Laos\", \"Norway\", \"Suriname\", \"Saint Kitts and Nevis\", \"Antigua and Barbuda\", \"Hong Kong\", \"Kyrgyzstan\", \"Angola\", \"Comoros\", \"Colombia\", \"Rwanda\", \"Oman\", \"Bulgaria\", \"Ethiopia\", \"Kuwait\", \"Burma\", \"Chile\", \"United Arab Emirates\", \"Brazil\", \"Iceland\", \"Western Sahara\", \"Armenia\", \"Holy See\", \"Libya\", \"Jordan\", \"Djibouti\", \"Switzerland\", \"Burundi\", \"Liberia\", \"Niger\", \"Lebanon\", \"Russia\", \"Dominican Republic\", \"Timor-Leste\", \"Nigeria\", \"Saint Lucia\", \"UK\", \"Fiji\", \"Congo (Brazzaville)\", \"Andorra\", \"Pakistan\", \"Argentina\", \"Kazakhstan\", \"Somalia\", \"Belize\", \"Paraguay\", \"Mongolia\", \"Sri Lanka\", \"Monaco\", \"Qatar\", \"Poland\", \"Cuba\", \"Venezuela\", \"Belarus\", \"Uzbekistan\", \"El Salvador\", \"Cambodia\", \"Czech Republic\", \"Maldives\", \"Bahamas\", \"Greece\", \"Afghanistan\", \"Uganda\", \"Syria\", \"Malaysia\", \"Cameroon\", \"Montenegro\", \"Sao Tome and Principe\", \"Israel\", \"Philippines\", \"Tanzania\", \"Iran\", \"Mali\", \"South Sudan\", \"Senegal\", \"Zimbabwe\", \"Mexico\", \"Saudi Arabia\", \"Bangladesh\", \"Mauritius\", \"Canada\", \"Moldova\", \"Iraq\", \"Germany\", \"Mauritania\", \"Barbados\", \"Bahrain\", \"Egypt\", \"Ireland\", \"Spain\", \"Portugal\", \"Ghana\", \"Malta\", \"Taiwan\", \"US\", \"Tajikistan\", \"Georgia\", \"Turkey\", \"Grenada\", \"Kosovo\", \"Trinidad and Tobago\", \"Croatia\", \"Malawi\", \"Serbia\", \"Mozambique\", \"Mainland China\", \"Central African Republic\", \"Ecuador\", \"Indonesia\", \"Azerbaijan\", \"Gabon\", \"Tunisia\", \"Italy\", \"South Korea\", \"Belgium\", \"Gambia\", \"Morocco\"], \"name\": \"\", \"z\": [857.0, 85.0, 533.0, 257.0, 39989.0, 1229.0, 39.0, 82.0, 10861.0, 37257.0, 712.0, 3802.0, 122.0, 2960.0, 4154.0, 23.0, 1485.0, 5051.0, 1399.0, 8.0, 604.0, 353.0, 14305.0, 1781.0, 1403.0, 82.0, 1694.0, 123.0, 9.0, 17101.0, 315.0, 7.0, 11.0, 580.0, 782.0, 15531.0, 12567.0, 40459.0, 644.0, 167305.0, 90.0, 109.0, 136.0, 132.0, 648.0, 1333.0, 9509.0, 1537.0, 45.0, 432.0, 725.0, 270.0, 59.0, 16.0, 73.0, 5951.0, 6778.0, 6720.0, 14.0, 16.0, 649.0, 804.0, 1434.0, 870.0, 2863.0, 16.0, 138.0, 411.0, 1494.0, 21520.0, 106.0, 7.0, 19.0, 7783.0, 10.0, 15.0, 25.0, 1039.0, 756.0, 30.0, 1.0, 7006.0, 249.0, 2447.0, 1555.0, 133.0, 4377.0, 151.0, 17008.0, 13038.0, 92202.0, 1798.0, 6.0, 2148.0, 11.0, 63.0, 459.0, 1097.0, 29705.0, 11.0, 152.0, 728.0, 729.0, 114431.0, 7288.0, 24.0, 2170.0, 17.0, 178685.0, 18.0, 229.0, 745.0, 18114.0, 4532.0, 3597.0, 601.0, 18.0, 333.0, 38.0, 690.0, 95.0, 14096.0, 13105.0, 1537.0, 335.0, 14917.0, 2086.0, 424.0, 122.0, 7737.0, 491.0, 81.0, 2612.0, 2335.0, 85.0, 44.0, 6071.0, 1832.0, 322.0, 16.0, 16101.0, 8772.0, 480.0, 95646.0, 508.0, 45.0, 1024.0, 40.0, 20739.0, 24097.0, 8238.0, 332.0, 56343.0, 3980.0, 2153.0, 164077.0, 8.0, 81.0, 3170.0, 5895.0, 20833.0, 213435.0, 25351.0, 2074.0, 467.0, 429.0, 1103461.0, 15.0, 566.0, 122392.0, 20.0, 806.0, 116.0, 2085.0, 37.0, 9009.0, 79.0, 82875.0, 72.0, 26336.0, 10551.0, 1854.0, 276.0, 998.0, 207428.0, 10780.0, 49032.0, 12.0, 4569.0], \"type\": \"choropleth\"}], \"name\": \"05/01/2020\"}, {\"data\": [{\"coloraxis\": \"coloraxis\", \"geo\": \"geo\", \"hovertemplate\": \"<b>%{hovertext}</b><br><br>Date=03/23/2020<br>Country=%{location}<br>Confirmed=%{z}<extra></extra>\", \"hovertext\": [\"Others\"], \"locationmode\": \"country names\", \"locations\": [\"Others\"], \"name\": \"\", \"z\": [712.0], \"type\": \"choropleth\"}], \"name\": \"03/23/2020\"}, {\"data\": [{\"coloraxis\": \"coloraxis\", \"geo\": \"geo\", \"hovertemplate\": \"<b>%{hovertext}</b><br><br>Date=03/21/2020<br>Country=%{location}<br>Confirmed=%{z}<extra></extra>\", \"hovertext\": [\"Reunion\", \"Cape Verde\", \"Martinique\", \"Bahamas, The\", \"Guadeloupe\", \"French Guiana\", \"Gambia, The\", \"Mayotte\", \"East Timor\"], \"locationmode\": \"country names\", \"locations\": [\"Reunion\", \"Cape Verde\", \"Martinique\", \"Bahamas, The\", \"Guadeloupe\", \"French Guiana\", \"Gambia, The\", \"Mayotte\", \"East Timor\"], \"name\": \"\", \"z\": [45.0, 1.0, 32.0, 4.0, 53.0, 18.0, 1.0, 7.0, 1.0], \"type\": \"choropleth\"}], \"name\": \"03/21/2020\"}, {\"data\": [{\"coloraxis\": \"coloraxis\", \"geo\": \"geo\", \"hovertemplate\": \"<b>%{hovertext}</b><br><br>Date=03/19/2020<br>Country=%{location}<br>Confirmed=%{z}<extra></extra>\", \"hovertext\": [\"Aruba\"], \"locationmode\": \"country names\", \"locations\": [\"Aruba\"], \"name\": \"\", \"z\": [4.0], \"type\": \"choropleth\"}], \"name\": \"03/19/2020\"}, {\"data\": [{\"coloraxis\": \"coloraxis\", \"geo\": \"geo\", \"hovertemplate\": \"<b>%{hovertext}</b><br><br>Date=03/15/2020<br>Country=%{location}<br>Confirmed=%{z}<extra></extra>\", \"hovertext\": [\"Curacao\", \"Cayman Islands\"], \"locationmode\": \"country names\", \"locations\": [\"Curacao\", \"Cayman Islands\"], \"name\": \"\", \"z\": [1.0, 1.0], \"type\": \"choropleth\"}], \"name\": \"03/15/2020\"}, {\"data\": [{\"coloraxis\": \"coloraxis\", \"geo\": \"geo\", \"hovertemplate\": \"<b>%{hovertext}</b><br><br>Date=03/10/2020<br>Country=%{location}<br>Confirmed=%{z}<extra></extra>\", \"hovertext\": [\"Gibraltar\", \"Faroe Islands\", \"Channel Islands\", \"Saint Barthelemy\", \"('St. Martin',)\"], \"locationmode\": \"country names\", \"locations\": [\"Gibraltar\", \"Faroe Islands\", \"Channel Islands\", \"Saint Barthelemy\", \"('St. Martin',)\"], \"name\": \"\", \"z\": [1.0, 2.0, 1.0, 1.0, 2.0], \"type\": \"choropleth\"}], \"name\": \"03/10/2020\"}, {\"data\": [{\"coloraxis\": \"coloraxis\", \"geo\": \"geo\", \"hovertemplate\": \"<b>%{hovertext}</b><br><br>Date=03/09/2020<br>Country=%{location}<br>Confirmed=%{z}<extra></extra>\", \"hovertext\": [\"St. Martin\", \"Palestine\", \"Vatican City\"], \"locationmode\": \"country names\", \"locations\": [\"St. Martin\", \"Palestine\", \"Vatican City\"], \"name\": \"\", \"z\": [2.0, 22.0, 1.0], \"type\": \"choropleth\"}], \"name\": \"03/09/2020\"}, {\"data\": [{\"coloraxis\": \"coloraxis\", \"geo\": \"geo\", \"hovertemplate\": \"<b>%{hovertext}</b><br><br>Date=03/08/2020<br>Country=%{location}<br>Confirmed=%{z}<extra></extra>\", \"hovertext\": [\"Republic of Ireland\"], \"locationmode\": \"country names\", \"locations\": [\"Republic of Ireland\"], \"name\": \"\", \"z\": [21.0], \"type\": \"choropleth\"}], \"name\": \"03/08/2020\"}, {\"data\": [{\"coloraxis\": \"coloraxis\", \"geo\": \"geo\", \"hovertemplate\": \"<b>%{hovertext}</b><br><br>Date=02/28/2020<br>Country=%{location}<br>Confirmed=%{z}<extra></extra>\", \"hovertext\": [\"North Ireland\", \" Azerbaijan\"], \"locationmode\": \"country names\", \"locations\": [\"North Ireland\", \" Azerbaijan\"], \"name\": \"\", \"z\": [1.0, 1.0], \"type\": \"choropleth\"}], \"name\": \"02/28/2020\"}]);\n",
       "                        }).then(function(){\n",
       "                            \n",
       "var gd = document.getElementById('92ad3922-7b17-4494-9b6d-8874899fb47b');\n",
       "var x = new MutationObserver(function (mutations, observer) {{\n",
       "        var display = window.getComputedStyle(gd).display;\n",
       "        if (!display || display === 'none') {{\n",
       "            console.log([gd, 'removed!']);\n",
       "            Plotly.purge(gd);\n",
       "            observer.disconnect();\n",
       "        }}\n",
       "}});\n",
       "\n",
       "// Listen for the removal of the full notebook cells\n",
       "var notebookContainer = gd.closest('#notebook-container');\n",
       "if (notebookContainer) {{\n",
       "    x.observe(notebookContainer, {childList: true});\n",
       "}}\n",
       "\n",
       "// Listen for the clearing of the current output cell\n",
       "var outputEl = gd.closest('.output');\n",
       "if (outputEl) {{\n",
       "    x.observe(outputEl, {childList: true});\n",
       "}}\n",
       "\n",
       "                        })                };                });            </script>        </div>"
      ]
     },
     "metadata": {},
     "output_type": "display_data"
    }
   ],
   "source": [
    "fig = px.choropleth(df_countries, \n",
    "                    locations='Country', locationmode=\"country names\",\n",
    "                    color = \"Confirmed\", hover_name=\"Country\", \n",
    "                    animation_frame=\"Date\")\n",
    "fig.update_layout(title_text = 'Global Spread of Coronovirus',\n",
    "                  title_x = 0.5,\n",
    "                  geo = dict(showframe = False, showcoastlines = False))\n",
    "fig.show()"
   ]
  },
  {
   "cell_type": "code",
   "execution_count": null,
   "metadata": {},
   "outputs": [],
   "source": []
  }
 ],
 "metadata": {
  "kernelspec": {
   "display_name": "Python 3",
   "language": "python",
   "name": "python3"
  },
  "language_info": {
   "codemirror_mode": {
    "name": "ipython",
    "version": 3
   },
   "file_extension": ".py",
   "mimetype": "text/x-python",
   "name": "python",
   "nbconvert_exporter": "python",
   "pygments_lexer": "ipython3",
   "version": "3.7.9"
  }
 },
 "nbformat": 4,
 "nbformat_minor": 4
}
